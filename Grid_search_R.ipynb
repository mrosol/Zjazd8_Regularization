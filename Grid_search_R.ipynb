{
 "cells": [
  {
   "cell_type": "markdown",
   "metadata": {},
   "source": [
    "# Cross validation"
   ]
  },
  {
   "cell_type": "code",
   "execution_count": 5,
   "metadata": {},
   "outputs": [],
   "source": [
    "import numpy as np\n",
    "import pandas as pd\n",
    "import matplotlib.pyplot as plt\n",
    "from sklearn import model_selection\n",
    "import scipy.stats as stats\n",
    "import sklearn.linear_model as lm\n",
    "from sklearn import datasets, linear_model\n",
    "from sklearn.preprocessing import PolynomialFeatures,StandardScaler\n",
    "from sklearn.pipeline import make_pipeline"
   ]
  },
  {
   "cell_type": "markdown",
   "metadata": {},
   "source": [
    "Rozważmy następujący zbiór punktów:"
   ]
  },
  {
   "cell_type": "code",
   "execution_count": 6,
   "metadata": {},
   "outputs": [
    {
     "data": {
      "image/png": "[encoded data removed]",
      "text/plain": [
       "<Figure size 432x288 with 1 Axes>"
      ]
     },
     "metadata": {
      "needs_background": "light"
     },
     "output_type": "display_data"
    }
   ],
   "source": [
    "np.random.seed(123)\n",
    "f = lambda x: ((-0.7*x-1)*(0.1*x**2-2)**2*(3*x-2)) \n",
    "x = stats.uniform(0,5).rvs(100)\n",
    "y = f(x) + stats.norm(0,0.5).rvs(len(x))\n",
    "x=np.vstack(x)\n",
    "plt.plot(x, y, 'ok');\n",
    "plt.show()"
   ]
  },
  {
   "cell_type": "markdown",
   "metadata": {},
   "source": [
    "# Utworzenie listy modeli"
   ]
  },
  {
   "cell_type": "code",
   "execution_count": 7,
   "metadata": {},
   "outputs": [],
   "source": [
    "# prepare models\n",
    "models = []\n",
    "models.append(('LR', linear_model.LinearRegression()))\n",
    "models.append(('PR2', make_pipeline(PolynomialFeatures(2), linear_model.LinearRegression()) ))\n",
    "models.append(('PR3', make_pipeline(PolynomialFeatures(3), linear_model.LinearRegression()) ))\n",
    "models.append(('PR4', make_pipeline(PolynomialFeatures(4), linear_model.LinearRegression()) ))\n",
    "models.append(('PR5', make_pipeline(PolynomialFeatures(5), linear_model.LinearRegression()) ))\n",
    "models.append(('PR6', make_pipeline(PolynomialFeatures(6), linear_model.LinearRegression()) ))\n",
    "models.append(('PR7', make_pipeline(PolynomialFeatures(7), linear_model.LinearRegression()) ))\n",
    "models.append(('PR8', make_pipeline(PolynomialFeatures(8), linear_model.LinearRegression()) ))\n",
    "models.append(('PR9', make_pipeline(PolynomialFeatures(9), linear_model.LinearRegression()) ))\n",
    "models.append(('PR10', make_pipeline(PolynomialFeatures(10), linear_model.LinearRegression()) ))\n",
    "# evaluate each model in turn\n"
   ]
  },
  {
   "cell_type": "code",
   "execution_count": 27,
   "metadata": {},
   "outputs": [],
   "source": [
    "seed=123\n",
    "kfold = model_selection.KFold(n_splits=10, random_state=seed, shuffle=True)\n",
    "# https://scikit-learn.org/stable/modules/model_evaluation.html#scoring-parameter\n",
    "scoring = 'neg_mean_absolute_error' \n",
    "#scoring = 'r2'"
   ]
  },
  {
   "cell_type": "code",
   "execution_count": 28,
   "metadata": {},
   "outputs": [
    {
     "name": "stdout",
     "output_type": "stream",
     "text": [
      "LR: -9.180582 (1.463094)\n",
      "PR2: -3.486806 (0.984427)\n",
      "PR3: -3.545894 (0.955687)\n",
      "PR4: -1.075648 (0.249993)\n",
      "PR5: -0.415142 (0.108587)\n",
      "PR6: -0.414913 (0.106426)\n",
      "PR7: -0.422787 (0.107162)\n",
      "PR8: -0.418938 (0.109399)\n",
      "PR9: -0.438198 (0.108085)\n",
      "PR10: -0.460053 (0.118093)\n"
     ]
    }
   ],
   "source": [
    "results = []\n",
    "names = []\n",
    "for name, model in models:\n",
    "    cv_results = model_selection.cross_val_score(model, x, y, cv=kfold, scoring=scoring)\n",
    "    results.append(cv_results)\n",
    "    names.append(name)\n",
    "    msg = \"%s: %f (%f)\" % (name, cv_results.mean(), cv_results.std())\n",
    "    print(msg)"
   ]
  },
  {
   "cell_type": "markdown",
   "metadata": {},
   "source": [
    "# Wizualne porównanie wyników"
   ]
  },
  {
   "cell_type": "code",
   "execution_count": 29,
   "metadata": {},
   "outputs": [
    {
     "data": {
      "image/png": "[encoded data removed]",
      "text/plain": [
       "<Figure size 432x288 with 1 Axes>"
      ]
     },
     "metadata": {
      "needs_background": "light"
     },
     "output_type": "display_data"
    }
   ],
   "source": [
    "# boxplot algorithm comparison\n",
    "fig = plt.figure()\n",
    "plt.title('Algorithm Comparison')\n",
    "plt.boxplot(results)\n",
    "ax=plt.gca()\n",
    "ax.set_xticklabels(names)\n",
    "plt.show()"
   ]
  },
  {
   "cell_type": "markdown",
   "metadata": {},
   "source": [
    "### Dobierz optymalny stopień wielomianu za pomocą metody GridSearchCV.\n",
    "https://scikit-learn.org/stable/modules/generated/sklearn.model_selection.GridSearchCV.html"
   ]
  },
  {
   "cell_type": "code",
   "execution_count": 30,
   "metadata": {},
   "outputs": [],
   "source": [
    "from sklearn.model_selection import GridSearchCV\n",
    "pipeline = make_pipeline(PolynomialFeatures(), StandardScaler(), linear_model.LinearRegression())"
   ]
  },
  {
   "cell_type": "code",
   "execution_count": 31,
   "metadata": {},
   "outputs": [
    {
     "data": {
      "text/plain": [
       "Pipeline(memory=None,\n",
       "         steps=[('polynomialfeatures',\n",
       "                 PolynomialFeatures(degree=2, include_bias=True,\n",
       "                                    interaction_only=False, order='C')),\n",
       "                ('standardscaler',\n",
       "                 StandardScaler(copy=True, with_mean=True, with_std=True)),\n",
       "                ('linearregression',\n",
       "                 LinearRegression(copy_X=True, fit_intercept=True, n_jobs=None,\n",
       "                                  normalize=False))],\n",
       "         verbose=False)"
      ]
     },
     "execution_count": 31,
     "metadata": {},
     "output_type": "execute_result"
    }
   ],
   "source": [
    "pipeline"
   ]
  },
  {
   "cell_type": "markdown",
   "metadata": {},
   "source": [
    "param_grid ustawiamy jako słownik zawierający:\n",
    " - klucz: nazwę kroku następnie dwa \"_\" oraz nazwę parametru\n",
    " - wartość: listę (obiekt iterowalny) wartości które chcemy sprawdzić"
   ]
  },
  {
   "cell_type": "code",
   "execution_count": 32,
   "metadata": {},
   "outputs": [
    {
     "name": "stdout",
     "output_type": "stream",
     "text": [
      "{'polynomialfeatures__degree': 6}\n",
      "-0.4149126393846677\n"
     ]
    }
   ],
   "source": [
    "grid = GridSearchCV(pipeline,\n",
    "                    param_grid={'polynomialfeatures__degree': [1, 2, 3, 4, 5, 6, 7,8,9,10]},\n",
    "                    cv=kfold,\n",
    "                    scoring=scoring,\n",
    "                    refit=False)\n",
    "grid.fit(x, y)\n",
    "print(grid.best_params_)\n",
    "print(grid.best_score_)"
   ]
  },
  {
   "cell_type": "markdown",
   "metadata": {},
   "source": [
    "# Zadanie 1\n",
    "Zmień pipeline w taki sposób, aby zastosować regularyzację L2 i oprócz najlepszego stopnia wielominanu znaleźć rózniez nalepszy parametr alfa z następującego zbioru: 0.001,0.01, 0.1, 1, 10, 100"
   ]
  },
  {
   "cell_type": "code",
   "execution_count": 16,
   "metadata": {
    "scrolled": true
   },
   "outputs": [
    {
     "name": "stdout",
     "output_type": "stream",
     "text": [
      "{'polynomialfeatures__degree': 6, 'ridge__alpha': 0.001}\n",
      "-0.4185714374960024\n"
     ]
    }
   ],
   "source": [
    "pipeline = make_pipeline(PolynomialFeatures(), StandardScaler(), linear_model.Ridge())\n",
    "grid = GridSearchCV(pipeline,\n",
    "                    param_grid={'polynomialfeatures__degree': [1, 2, 3, 4, 5, 6, 7,8,9,10],\n",
    "                               'ridge__alpha': [0.001,0.01, 0.1, 1, 10, 100]},\n",
    "                    cv=kfold,\n",
    "                    scoring='neg_mean_absolute_error',\n",
    "                    refit=False)\n",
    "grid.fit(x, y)\n",
    "print(grid.best_params_)\n",
    "print(grid.best_score_)"
   ]
  },
  {
   "cell_type": "markdown",
   "metadata": {},
   "source": [
    "# Zadanie 2\n",
    "Dla podanych danych wykonaj 5-fold cross-validation dla regresji liniowej i wielomianowej o stopniach 2,3,4,5,10,15,20,25 oraz podaj uśrednione wartości dla każdej z nich oraz wykonaj barplot."
   ]
  },
  {
   "cell_type": "code",
   "execution_count": 21,
   "metadata": {},
   "outputs": [
    {
     "data": {
      "image/png": "[encoded data removed]",
      "text/plain": [
       "<Figure size 432x288 with 1 Axes>"
      ]
     },
     "metadata": {
      "needs_background": "light"
     },
     "output_type": "display_data"
    }
   ],
   "source": [
    "f1 = lambda x: 2*(x-2)*(x-1)*(x-5)\n",
    "x = stats.uniform(0,6).rvs(100)\n",
    "y = f1(x) + stats.norm(0,1).rvs(len(x))\n",
    "x=np.vstack(x)\n",
    "plt.plot(x, y, 'ok');\n",
    "plt.show()"
   ]
  },
  {
   "cell_type": "code",
   "execution_count": 22,
   "metadata": {},
   "outputs": [],
   "source": [
    "# prepare models\n",
    "models = []\n",
    "models.append(('LR', linear_model.LinearRegression()))\n",
    "models.append(('PR2', make_pipeline(PolynomialFeatures(2), linear_model.LinearRegression()) ))\n",
    "models.append(('PR3', make_pipeline(PolynomialFeatures(3), linear_model.LinearRegression()) ))\n",
    "models.append(('PR4', make_pipeline(PolynomialFeatures(4), linear_model.LinearRegression()) ))\n",
    "models.append(('PR5', make_pipeline(PolynomialFeatures(5), linear_model.LinearRegression()) ))\n",
    "models.append(('PR10', make_pipeline(PolynomialFeatures(10), linear_model.LinearRegression()) ))\n",
    "models.append(('PR15', make_pipeline(PolynomialFeatures(15), linear_model.LinearRegression()) ))\n",
    "models.append(('PR20', make_pipeline(PolynomialFeatures(20), linear_model.LinearRegression()) ))\n",
    "models.append(('PR25', make_pipeline(PolynomialFeatures(25), linear_model.LinearRegression()) ))\n",
    "# evaluate each model in turn\n",
    "results = []\n",
    "names = []"
   ]
  },
  {
   "cell_type": "code",
   "execution_count": 23,
   "metadata": {},
   "outputs": [],
   "source": [
    "seed=123\n",
    "kfold = model_selection.KFold(n_splits=5, random_state=seed, shuffle=True)\n",
    "scoring = 'neg_mean_absolute_error'\n",
    "#scoring = 'r2'"
   ]
  },
  {
   "cell_type": "code",
   "execution_count": 24,
   "metadata": {},
   "outputs": [
    {
     "name": "stdout",
     "output_type": "stream",
     "text": [
      "LR: -8.532111 (1.248286)\n",
      "PR2: -7.989341 (0.437968)\n",
      "PR3: -0.804505 (0.055792)\n",
      "PR4: -0.798440 (0.053332)\n",
      "PR5: -0.805677 (0.050674)\n",
      "PR10: -0.851488 (0.045221)\n",
      "PR15: -0.903888 (0.057354)\n",
      "PR20: -1.603253 (0.276050)\n",
      "PR25: -3.177021 (0.419215)\n"
     ]
    }
   ],
   "source": [
    "results = []\n",
    "names = []\n",
    "for name, model in models:\n",
    "    cv_results = model_selection.cross_val_score(model, x, y, cv=kfold, scoring=scoring)\n",
    "    results.append(cv_results)\n",
    "    names.append(name)\n",
    "    msg = \"%s: %f (%f)\" % (name, cv_results.mean(), cv_results.std())\n",
    "    print(msg)"
   ]
  },
  {
   "cell_type": "code",
   "execution_count": 25,
   "metadata": {},
   "outputs": [
    {
     "data": {
      "image/png": "[encoded data removed]",
      "text/plain": [
       "<Figure size 432x288 with 1 Axes>"
      ]
     },
     "metadata": {
      "needs_background": "light"
     },
     "output_type": "display_data"
    }
   ],
   "source": [
    "# boxplot algorithm comparison\n",
    "fig = plt.figure()\n",
    "plt.title('Algorithm Comparison')\n",
    "plt.boxplot(results)\n",
    "ax=plt.gca()\n",
    "ax.set_xticklabels(names)\n",
    "plt.show()"
   ]
  },
  {
   "cell_type": "markdown",
   "metadata": {},
   "source": [
    "# Zadanie 3\n",
    "Dla podanych danych znajdź model o najlepszych parametrach spośród modelu regresji liniowej i wielomianowej o stopniach 2,3,4,5,10,15,20,25 przy zastosowaniu regularyzacji L2 z parametrem alfa równym 0.0001, 0.001,0.01, 0.1, 1, 10, lub 100 przy zastosowaniu 5-fold cross-validation oraz podaj najlepszy uzyskany wynik."
   ]
  },
  {
   "cell_type": "code",
   "execution_count": 26,
   "metadata": {},
   "outputs": [
    {
     "name": "stdout",
     "output_type": "stream",
     "text": [
      "{'polynomialfeatures__degree': 5, 'ridge__alpha': 0.0001}\n",
      "0.9928759951098491\n"
     ]
    }
   ],
   "source": [
    "pipeline = make_pipeline(PolynomialFeatures(), StandardScaler(), linear_model.Ridge())\n",
    "grid = GridSearchCV(pipeline,\n",
    "                    param_grid={'polynomialfeatures__degree': [1, 2 ,3, 4, 5, 10, 15, 20, 25],\n",
    "                               'ridge__alpha': [0.0001, 0.001,0.01, 0.1, 1, 10, 100]},\n",
    "                    cv=kfold,\n",
    "                    refit=False)\n",
    "grid.fit(x, y)\n",
    "print(grid.best_params_)\n",
    "print(grid.best_score_)"
   ]
  },
  {
   "cell_type": "code",
   "execution_count": null,
   "metadata": {},
   "outputs": [],
   "source": []
  }
 ],
 "metadata": {
  "kernelspec": {
   "display_name": "Python 3",
   "language": "python",
   "name": "python3"
  },
  "language_info": {
   "codemirror_mode": {
    "name": "ipython",
    "version": 3
   },
   "file_extension": ".py",
   "mimetype": "text/x-python",
   "name": "python",
   "nbconvert_exporter": "python",
   "pygments_lexer": "ipython3",
   "version": "3.7.6"
  }
 },
 "nbformat": 4,
 "nbformat_minor": 4
}
