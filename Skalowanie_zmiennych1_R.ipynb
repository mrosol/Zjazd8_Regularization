{
 "cells": [
  {
   "cell_type": "markdown",
   "metadata": {},
   "source": [
    "# Skalowanie i standaryzacja zmiennych"
   ]
  },
  {
   "cell_type": "code",
   "execution_count": 37,
   "metadata": {},
   "outputs": [],
   "source": [
    "import numpy as np\n",
    "import pandas as pd\n",
    "from sklearn.datasets import load_boston\n",
    "import statistics"
   ]
  },
  {
   "cell_type": "markdown",
   "metadata": {},
   "source": [
    "Załadujmy zbiór danych boston i na nim przeprowadzajmy transormacje zmiennych.\n",
    "https://scikit-learn.org/stable/datasets/index.html#boston-dataset"
   ]
  },
  {
   "cell_type": "code",
   "execution_count": 38,
   "metadata": {},
   "outputs": [],
   "source": [
    "data = load_boston()\n",
    "X = data[\"data\"]\n",
    "X = pd.DataFrame(X)\n",
    "X.columns = data[\"feature_names\"]\n",
    "y = data[\"target\"]"
   ]
  },
  {
   "cell_type": "code",
   "execution_count": 39,
   "metadata": {},
   "outputs": [
    {
     "data": {
      "text/html": [
       "<div>\n",
       "<style scoped>\n",
       "    .dataframe tbody tr th:only-of-type {\n",
       "        vertical-align: middle;\n",
       "    }\n",
       "\n",
       "    .dataframe tbody tr th {\n",
       "        vertical-align: top;\n",
       "    }\n",
       "\n",
       "    .dataframe thead th {\n",
       "        text-align: right;\n",
       "    }\n",
       "</style>\n",
       "<table border=\"1\" class=\"dataframe\">\n",
       "  <thead>\n",
       "    <tr style=\"text-align: right;\">\n",
       "      <th></th>\n",
       "      <th>CRIM</th>\n",
       "      <th>ZN</th>\n",
       "      <th>INDUS</th>\n",
       "      <th>CHAS</th>\n",
       "      <th>NOX</th>\n",
       "      <th>RM</th>\n",
       "      <th>AGE</th>\n",
       "      <th>DIS</th>\n",
       "      <th>RAD</th>\n",
       "      <th>TAX</th>\n",
       "      <th>PTRATIO</th>\n",
       "      <th>B</th>\n",
       "      <th>LSTAT</th>\n",
       "    </tr>\n",
       "  </thead>\n",
       "  <tbody>\n",
       "    <tr>\n",
       "      <th>0</th>\n",
       "      <td>0.00632</td>\n",
       "      <td>18.0</td>\n",
       "      <td>2.31</td>\n",
       "      <td>0.0</td>\n",
       "      <td>0.538</td>\n",
       "      <td>6.575</td>\n",
       "      <td>65.2</td>\n",
       "      <td>4.0900</td>\n",
       "      <td>1.0</td>\n",
       "      <td>296.0</td>\n",
       "      <td>15.3</td>\n",
       "      <td>396.90</td>\n",
       "      <td>4.98</td>\n",
       "    </tr>\n",
       "    <tr>\n",
       "      <th>1</th>\n",
       "      <td>0.02731</td>\n",
       "      <td>0.0</td>\n",
       "      <td>7.07</td>\n",
       "      <td>0.0</td>\n",
       "      <td>0.469</td>\n",
       "      <td>6.421</td>\n",
       "      <td>78.9</td>\n",
       "      <td>4.9671</td>\n",
       "      <td>2.0</td>\n",
       "      <td>242.0</td>\n",
       "      <td>17.8</td>\n",
       "      <td>396.90</td>\n",
       "      <td>9.14</td>\n",
       "    </tr>\n",
       "    <tr>\n",
       "      <th>2</th>\n",
       "      <td>0.02729</td>\n",
       "      <td>0.0</td>\n",
       "      <td>7.07</td>\n",
       "      <td>0.0</td>\n",
       "      <td>0.469</td>\n",
       "      <td>7.185</td>\n",
       "      <td>61.1</td>\n",
       "      <td>4.9671</td>\n",
       "      <td>2.0</td>\n",
       "      <td>242.0</td>\n",
       "      <td>17.8</td>\n",
       "      <td>392.83</td>\n",
       "      <td>4.03</td>\n",
       "    </tr>\n",
       "    <tr>\n",
       "      <th>3</th>\n",
       "      <td>0.03237</td>\n",
       "      <td>0.0</td>\n",
       "      <td>2.18</td>\n",
       "      <td>0.0</td>\n",
       "      <td>0.458</td>\n",
       "      <td>6.998</td>\n",
       "      <td>45.8</td>\n",
       "      <td>6.0622</td>\n",
       "      <td>3.0</td>\n",
       "      <td>222.0</td>\n",
       "      <td>18.7</td>\n",
       "      <td>394.63</td>\n",
       "      <td>2.94</td>\n",
       "    </tr>\n",
       "    <tr>\n",
       "      <th>4</th>\n",
       "      <td>0.06905</td>\n",
       "      <td>0.0</td>\n",
       "      <td>2.18</td>\n",
       "      <td>0.0</td>\n",
       "      <td>0.458</td>\n",
       "      <td>7.147</td>\n",
       "      <td>54.2</td>\n",
       "      <td>6.0622</td>\n",
       "      <td>3.0</td>\n",
       "      <td>222.0</td>\n",
       "      <td>18.7</td>\n",
       "      <td>396.90</td>\n",
       "      <td>5.33</td>\n",
       "    </tr>\n",
       "  </tbody>\n",
       "</table>\n",
       "</div>"
      ],
      "text/plain": [
       "      CRIM    ZN  INDUS  CHAS    NOX     RM   AGE     DIS  RAD    TAX  \\\n",
       "0  0.00632  18.0   2.31   0.0  0.538  6.575  65.2  4.0900  1.0  296.0   \n",
       "1  0.02731   0.0   7.07   0.0  0.469  6.421  78.9  4.9671  2.0  242.0   \n",
       "2  0.02729   0.0   7.07   0.0  0.469  7.185  61.1  4.9671  2.0  242.0   \n",
       "3  0.03237   0.0   2.18   0.0  0.458  6.998  45.8  6.0622  3.0  222.0   \n",
       "4  0.06905   0.0   2.18   0.0  0.458  7.147  54.2  6.0622  3.0  222.0   \n",
       "\n",
       "   PTRATIO       B  LSTAT  \n",
       "0     15.3  396.90   4.98  \n",
       "1     17.8  396.90   9.14  \n",
       "2     17.8  392.83   4.03  \n",
       "3     18.7  394.63   2.94  \n",
       "4     18.7  396.90   5.33  "
      ]
     },
     "execution_count": 39,
     "metadata": {},
     "output_type": "execute_result"
    }
   ],
   "source": [
    "X.head()"
   ]
  },
  {
   "cell_type": "markdown",
   "metadata": {},
   "source": [
    "## Skalowanie zmiennch"
   ]
  },
  {
   "cell_type": "markdown",
   "metadata": {},
   "source": [
    "Chcemy napisać funkcję przyjmującą jedną kolumnę z ramki danych i przekształcającą ją liniowo w zakres 0-1."
   ]
  },
  {
   "cell_type": "code",
   "execution_count": 40,
   "metadata": {},
   "outputs": [],
   "source": [
    "def scale_0_1(array):\n",
    "    val_max = max(array)\n",
    "    val_min = min(array)\n",
    "    return (array - val_min)/(val_max - val_min)"
   ]
  },
  {
   "cell_type": "code",
   "execution_count": 41,
   "metadata": {},
   "outputs": [
    {
     "data": {
      "text/plain": [
       "0    0.000000\n",
       "1    0.000236\n",
       "2    0.000236\n",
       "3    0.000293\n",
       "4    0.000705\n",
       "Name: CRIM, dtype: float64"
      ]
     },
     "execution_count": 41,
     "metadata": {},
     "output_type": "execute_result"
    }
   ],
   "source": [
    "new_first_column = scale_0_1(X.iloc[:, 0])\n",
    "new_first_column.head()"
   ]
  },
  {
   "cell_type": "code",
   "execution_count": 42,
   "metadata": {},
   "outputs": [
    {
     "data": {
      "text/plain": [
       "count    506.000000\n",
       "mean       0.040544\n",
       "std        0.096679\n",
       "min        0.000000\n",
       "25%        0.000851\n",
       "50%        0.002812\n",
       "75%        0.041258\n",
       "max        1.000000\n",
       "Name: CRIM, dtype: float64"
      ]
     },
     "execution_count": 42,
     "metadata": {},
     "output_type": "execute_result"
    }
   ],
   "source": [
    "new_first_column.describe()"
   ]
  },
  {
   "cell_type": "markdown",
   "metadata": {},
   "source": [
    "## Standaryzacja zmiennych"
   ]
  },
  {
   "cell_type": "markdown",
   "metadata": {},
   "source": [
    "Chcemy napisać funkcję przyjmującą jedna kolumnę z rami danych i przekształcającą ją tak aby miała średnią 0 i odchylenie standardowe wynoszące 1."
   ]
  },
  {
   "cell_type": "code",
   "execution_count": 43,
   "metadata": {},
   "outputs": [],
   "source": [
    "def standarize(array):\n",
    "    mean = statistics.mean(array)\n",
    "    std = statistics.stdev(array)\n",
    "    return (array - mean)/std"
   ]
  },
  {
   "cell_type": "code",
   "execution_count": 44,
   "metadata": {},
   "outputs": [
    {
     "data": {
      "text/plain": [
       "0   -0.419367\n",
       "1   -0.416927\n",
       "2   -0.416929\n",
       "3   -0.416338\n",
       "4   -0.412074\n",
       "Name: CRIM, dtype: float64"
      ]
     },
     "execution_count": 44,
     "metadata": {},
     "output_type": "execute_result"
    }
   ],
   "source": [
    "new_first_column = standarize(X.iloc[:,0])\n",
    "new_first_column.head()"
   ]
  },
  {
   "cell_type": "code",
   "execution_count": 45,
   "metadata": {},
   "outputs": [
    {
     "data": {
      "text/plain": [
       "count    5.060000e+02\n",
       "mean     2.426693e-16\n",
       "std      1.000000e+00\n",
       "min     -4.193669e-01\n",
       "25%     -4.105633e-01\n",
       "50%     -3.902803e-01\n",
       "75%      7.389247e-03\n",
       "max      9.924110e+00\n",
       "Name: CRIM, dtype: float64"
      ]
     },
     "execution_count": 45,
     "metadata": {},
     "output_type": "execute_result"
    }
   ],
   "source": [
    "new_first_column.describe()"
   ]
  },
  {
   "cell_type": "markdown",
   "metadata": {},
   "source": [
    "### Zadanie 1"
   ]
  },
  {
   "cell_type": "markdown",
   "metadata": {},
   "source": [
    "Napisać kod (funkcję), która przyjmuje ramkę danych i standaryzuje ją używając funkcji przygotowanych powyżej."
   ]
  },
  {
   "cell_type": "code",
   "execution_count": 46,
   "metadata": {},
   "outputs": [],
   "source": [
    "def standarize_data_frame(df):\n",
    "    for i in range(df.shape[1]):\n",
    "        df.iloc[:,i] = standarize(df.iloc[:,i])\n",
    "    return df"
   ]
  },
  {
   "cell_type": "code",
   "execution_count": 47,
   "metadata": {},
   "outputs": [
    {
     "data": {
      "text/html": [
       "<div>\n",
       "<style scoped>\n",
       "    .dataframe tbody tr th:only-of-type {\n",
       "        vertical-align: middle;\n",
       "    }\n",
       "\n",
       "    .dataframe tbody tr th {\n",
       "        vertical-align: top;\n",
       "    }\n",
       "\n",
       "    .dataframe thead th {\n",
       "        text-align: right;\n",
       "    }\n",
       "</style>\n",
       "<table border=\"1\" class=\"dataframe\">\n",
       "  <thead>\n",
       "    <tr style=\"text-align: right;\">\n",
       "      <th></th>\n",
       "      <th>CRIM</th>\n",
       "      <th>ZN</th>\n",
       "      <th>INDUS</th>\n",
       "      <th>CHAS</th>\n",
       "      <th>NOX</th>\n",
       "      <th>RM</th>\n",
       "      <th>AGE</th>\n",
       "      <th>DIS</th>\n",
       "      <th>RAD</th>\n",
       "      <th>TAX</th>\n",
       "      <th>PTRATIO</th>\n",
       "      <th>B</th>\n",
       "      <th>LSTAT</th>\n",
       "    </tr>\n",
       "  </thead>\n",
       "  <tbody>\n",
       "    <tr>\n",
       "      <th>count</th>\n",
       "      <td>5.060000e+02</td>\n",
       "      <td>5.060000e+02</td>\n",
       "      <td>5.060000e+02</td>\n",
       "      <td>5.060000e+02</td>\n",
       "      <td>5.060000e+02</td>\n",
       "      <td>5.060000e+02</td>\n",
       "      <td>5.060000e+02</td>\n",
       "      <td>5.060000e+02</td>\n",
       "      <td>5.060000e+02</td>\n",
       "      <td>5.060000e+02</td>\n",
       "      <td>5.060000e+02</td>\n",
       "      <td>5.060000e+02</td>\n",
       "      <td>5.060000e+02</td>\n",
       "    </tr>\n",
       "    <tr>\n",
       "      <th>mean</th>\n",
       "      <td>2.426693e-16</td>\n",
       "      <td>-2.248970e-16</td>\n",
       "      <td>-3.444215e-16</td>\n",
       "      <td>-3.940634e-16</td>\n",
       "      <td>-2.405849e-16</td>\n",
       "      <td>-5.715674e-17</td>\n",
       "      <td>-3.181469e-17</td>\n",
       "      <td>-5.616939e-17</td>\n",
       "      <td>1.664018e-15</td>\n",
       "      <td>3.918692e-16</td>\n",
       "      <td>-1.008416e-15</td>\n",
       "      <td>1.857320e-16</td>\n",
       "      <td>-1.178241e-16</td>\n",
       "    </tr>\n",
       "    <tr>\n",
       "      <th>std</th>\n",
       "      <td>1.000000e+00</td>\n",
       "      <td>1.000000e+00</td>\n",
       "      <td>1.000000e+00</td>\n",
       "      <td>1.000000e+00</td>\n",
       "      <td>1.000000e+00</td>\n",
       "      <td>1.000000e+00</td>\n",
       "      <td>1.000000e+00</td>\n",
       "      <td>1.000000e+00</td>\n",
       "      <td>1.000000e+00</td>\n",
       "      <td>1.000000e+00</td>\n",
       "      <td>1.000000e+00</td>\n",
       "      <td>1.000000e+00</td>\n",
       "      <td>1.000000e+00</td>\n",
       "    </tr>\n",
       "    <tr>\n",
       "      <th>min</th>\n",
       "      <td>-4.193669e-01</td>\n",
       "      <td>-4.872402e-01</td>\n",
       "      <td>-1.556302e+00</td>\n",
       "      <td>-2.723291e-01</td>\n",
       "      <td>-1.464433e+00</td>\n",
       "      <td>-3.876413e+00</td>\n",
       "      <td>-2.333128e+00</td>\n",
       "      <td>-1.265817e+00</td>\n",
       "      <td>-9.818712e-01</td>\n",
       "      <td>-1.312691e+00</td>\n",
       "      <td>-2.704703e+00</td>\n",
       "      <td>-3.903331e+00</td>\n",
       "      <td>-1.529613e+00</td>\n",
       "    </tr>\n",
       "    <tr>\n",
       "      <th>25%</th>\n",
       "      <td>-4.105633e-01</td>\n",
       "      <td>-4.872402e-01</td>\n",
       "      <td>-8.668328e-01</td>\n",
       "      <td>-2.723291e-01</td>\n",
       "      <td>-9.121262e-01</td>\n",
       "      <td>-5.680681e-01</td>\n",
       "      <td>-8.366200e-01</td>\n",
       "      <td>-8.048913e-01</td>\n",
       "      <td>-6.373311e-01</td>\n",
       "      <td>-7.668172e-01</td>\n",
       "      <td>-4.875567e-01</td>\n",
       "      <td>2.048688e-01</td>\n",
       "      <td>-7.986296e-01</td>\n",
       "    </tr>\n",
       "    <tr>\n",
       "      <th>50%</th>\n",
       "      <td>-3.902803e-01</td>\n",
       "      <td>-4.872402e-01</td>\n",
       "      <td>-2.108898e-01</td>\n",
       "      <td>-2.723291e-01</td>\n",
       "      <td>-1.440749e-01</td>\n",
       "      <td>-1.083583e-01</td>\n",
       "      <td>3.170678e-01</td>\n",
       "      <td>-2.790473e-01</td>\n",
       "      <td>-5.224844e-01</td>\n",
       "      <td>-4.642132e-01</td>\n",
       "      <td>2.745872e-01</td>\n",
       "      <td>3.808097e-01</td>\n",
       "      <td>-1.810744e-01</td>\n",
       "    </tr>\n",
       "    <tr>\n",
       "      <th>75%</th>\n",
       "      <td>7.389247e-03</td>\n",
       "      <td>4.872402e-02</td>\n",
       "      <td>1.014995e+00</td>\n",
       "      <td>-2.723291e-01</td>\n",
       "      <td>5.980871e-01</td>\n",
       "      <td>4.822906e-01</td>\n",
       "      <td>9.059016e-01</td>\n",
       "      <td>6.617161e-01</td>\n",
       "      <td>1.659603e+00</td>\n",
       "      <td>1.529413e+00</td>\n",
       "      <td>8.057784e-01</td>\n",
       "      <td>4.332223e-01</td>\n",
       "      <td>6.024226e-01</td>\n",
       "    </tr>\n",
       "    <tr>\n",
       "      <th>max</th>\n",
       "      <td>9.924110e+00</td>\n",
       "      <td>3.800473e+00</td>\n",
       "      <td>2.420170e+00</td>\n",
       "      <td>3.664771e+00</td>\n",
       "      <td>2.729645e+00</td>\n",
       "      <td>3.551530e+00</td>\n",
       "      <td>1.116390e+00</td>\n",
       "      <td>3.956602e+00</td>\n",
       "      <td>1.659603e+00</td>\n",
       "      <td>1.796416e+00</td>\n",
       "      <td>1.637208e+00</td>\n",
       "      <td>4.406159e-01</td>\n",
       "      <td>3.545262e+00</td>\n",
       "    </tr>\n",
       "  </tbody>\n",
       "</table>\n",
       "</div>"
      ],
      "text/plain": [
       "               CRIM            ZN         INDUS          CHAS           NOX  \\\n",
       "count  5.060000e+02  5.060000e+02  5.060000e+02  5.060000e+02  5.060000e+02   \n",
       "mean   2.426693e-16 -2.248970e-16 -3.444215e-16 -3.940634e-16 -2.405849e-16   \n",
       "std    1.000000e+00  1.000000e+00  1.000000e+00  1.000000e+00  1.000000e+00   \n",
       "min   -4.193669e-01 -4.872402e-01 -1.556302e+00 -2.723291e-01 -1.464433e+00   \n",
       "25%   -4.105633e-01 -4.872402e-01 -8.668328e-01 -2.723291e-01 -9.121262e-01   \n",
       "50%   -3.902803e-01 -4.872402e-01 -2.108898e-01 -2.723291e-01 -1.440749e-01   \n",
       "75%    7.389247e-03  4.872402e-02  1.014995e+00 -2.723291e-01  5.980871e-01   \n",
       "max    9.924110e+00  3.800473e+00  2.420170e+00  3.664771e+00  2.729645e+00   \n",
       "\n",
       "                 RM           AGE           DIS           RAD           TAX  \\\n",
       "count  5.060000e+02  5.060000e+02  5.060000e+02  5.060000e+02  5.060000e+02   \n",
       "mean  -5.715674e-17 -3.181469e-17 -5.616939e-17  1.664018e-15  3.918692e-16   \n",
       "std    1.000000e+00  1.000000e+00  1.000000e+00  1.000000e+00  1.000000e+00   \n",
       "min   -3.876413e+00 -2.333128e+00 -1.265817e+00 -9.818712e-01 -1.312691e+00   \n",
       "25%   -5.680681e-01 -8.366200e-01 -8.048913e-01 -6.373311e-01 -7.668172e-01   \n",
       "50%   -1.083583e-01  3.170678e-01 -2.790473e-01 -5.224844e-01 -4.642132e-01   \n",
       "75%    4.822906e-01  9.059016e-01  6.617161e-01  1.659603e+00  1.529413e+00   \n",
       "max    3.551530e+00  1.116390e+00  3.956602e+00  1.659603e+00  1.796416e+00   \n",
       "\n",
       "            PTRATIO             B         LSTAT  \n",
       "count  5.060000e+02  5.060000e+02  5.060000e+02  \n",
       "mean  -1.008416e-15  1.857320e-16 -1.178241e-16  \n",
       "std    1.000000e+00  1.000000e+00  1.000000e+00  \n",
       "min   -2.704703e+00 -3.903331e+00 -1.529613e+00  \n",
       "25%   -4.875567e-01  2.048688e-01 -7.986296e-01  \n",
       "50%    2.745872e-01  3.808097e-01 -1.810744e-01  \n",
       "75%    8.057784e-01  4.332223e-01  6.024226e-01  \n",
       "max    1.637208e+00  4.406159e-01  3.545262e+00  "
      ]
     },
     "execution_count": 47,
     "metadata": {},
     "output_type": "execute_result"
    }
   ],
   "source": [
    "standarize_data_frame(X).describe()"
   ]
  },
  {
   "cell_type": "markdown",
   "metadata": {},
   "source": [
    "### Zadanie 2"
   ]
  },
  {
   "cell_type": "markdown",
   "metadata": {},
   "source": [
    "Napisać kod (funkcję), która przyjmuje ramkę danych i skaluje ją używając funkcji przygotowanej powyżej."
   ]
  },
  {
   "cell_type": "code",
   "execution_count": 48,
   "metadata": {},
   "outputs": [],
   "source": [
    "def scale_data_frame(df):\n",
    "    for i in range(df.shape[1]):\n",
    "        df.iloc[:,i] = scale_0_1(df.iloc[:,i])\n",
    "    return df"
   ]
  },
  {
   "cell_type": "code",
   "execution_count": 49,
   "metadata": {},
   "outputs": [
    {
     "data": {
      "text/html": [
       "<div>\n",
       "<style scoped>\n",
       "    .dataframe tbody tr th:only-of-type {\n",
       "        vertical-align: middle;\n",
       "    }\n",
       "\n",
       "    .dataframe tbody tr th {\n",
       "        vertical-align: top;\n",
       "    }\n",
       "\n",
       "    .dataframe thead th {\n",
       "        text-align: right;\n",
       "    }\n",
       "</style>\n",
       "<table border=\"1\" class=\"dataframe\">\n",
       "  <thead>\n",
       "    <tr style=\"text-align: right;\">\n",
       "      <th></th>\n",
       "      <th>CRIM</th>\n",
       "      <th>ZN</th>\n",
       "      <th>INDUS</th>\n",
       "      <th>CHAS</th>\n",
       "      <th>NOX</th>\n",
       "      <th>RM</th>\n",
       "      <th>AGE</th>\n",
       "      <th>DIS</th>\n",
       "      <th>RAD</th>\n",
       "      <th>TAX</th>\n",
       "      <th>PTRATIO</th>\n",
       "      <th>B</th>\n",
       "      <th>LSTAT</th>\n",
       "    </tr>\n",
       "  </thead>\n",
       "  <tbody>\n",
       "    <tr>\n",
       "      <th>count</th>\n",
       "      <td>506.000000</td>\n",
       "      <td>506.000000</td>\n",
       "      <td>506.000000</td>\n",
       "      <td>506.000000</td>\n",
       "      <td>506.000000</td>\n",
       "      <td>506.000000</td>\n",
       "      <td>506.000000</td>\n",
       "      <td>506.000000</td>\n",
       "      <td>506.000000</td>\n",
       "      <td>506.000000</td>\n",
       "      <td>506.000000</td>\n",
       "      <td>506.000000</td>\n",
       "      <td>506.000000</td>\n",
       "    </tr>\n",
       "    <tr>\n",
       "      <th>mean</th>\n",
       "      <td>0.040544</td>\n",
       "      <td>0.113636</td>\n",
       "      <td>0.391378</td>\n",
       "      <td>0.069170</td>\n",
       "      <td>0.349167</td>\n",
       "      <td>0.521869</td>\n",
       "      <td>0.676364</td>\n",
       "      <td>0.242381</td>\n",
       "      <td>0.371713</td>\n",
       "      <td>0.422208</td>\n",
       "      <td>0.622929</td>\n",
       "      <td>0.898568</td>\n",
       "      <td>0.301409</td>\n",
       "    </tr>\n",
       "    <tr>\n",
       "      <th>std</th>\n",
       "      <td>0.096679</td>\n",
       "      <td>0.233225</td>\n",
       "      <td>0.251479</td>\n",
       "      <td>0.253994</td>\n",
       "      <td>0.238431</td>\n",
       "      <td>0.134627</td>\n",
       "      <td>0.289896</td>\n",
       "      <td>0.191482</td>\n",
       "      <td>0.378576</td>\n",
       "      <td>0.321636</td>\n",
       "      <td>0.230313</td>\n",
       "      <td>0.230205</td>\n",
       "      <td>0.197049</td>\n",
       "    </tr>\n",
       "    <tr>\n",
       "      <th>min</th>\n",
       "      <td>0.000000</td>\n",
       "      <td>0.000000</td>\n",
       "      <td>0.000000</td>\n",
       "      <td>0.000000</td>\n",
       "      <td>0.000000</td>\n",
       "      <td>0.000000</td>\n",
       "      <td>0.000000</td>\n",
       "      <td>0.000000</td>\n",
       "      <td>0.000000</td>\n",
       "      <td>0.000000</td>\n",
       "      <td>0.000000</td>\n",
       "      <td>0.000000</td>\n",
       "      <td>0.000000</td>\n",
       "    </tr>\n",
       "    <tr>\n",
       "      <th>25%</th>\n",
       "      <td>0.000851</td>\n",
       "      <td>0.000000</td>\n",
       "      <td>0.173387</td>\n",
       "      <td>0.000000</td>\n",
       "      <td>0.131687</td>\n",
       "      <td>0.445392</td>\n",
       "      <td>0.433831</td>\n",
       "      <td>0.088259</td>\n",
       "      <td>0.130435</td>\n",
       "      <td>0.175573</td>\n",
       "      <td>0.510638</td>\n",
       "      <td>0.945730</td>\n",
       "      <td>0.144040</td>\n",
       "    </tr>\n",
       "    <tr>\n",
       "      <th>50%</th>\n",
       "      <td>0.002812</td>\n",
       "      <td>0.000000</td>\n",
       "      <td>0.338343</td>\n",
       "      <td>0.000000</td>\n",
       "      <td>0.314815</td>\n",
       "      <td>0.507281</td>\n",
       "      <td>0.768280</td>\n",
       "      <td>0.188949</td>\n",
       "      <td>0.173913</td>\n",
       "      <td>0.272901</td>\n",
       "      <td>0.686170</td>\n",
       "      <td>0.986232</td>\n",
       "      <td>0.265728</td>\n",
       "    </tr>\n",
       "    <tr>\n",
       "      <th>75%</th>\n",
       "      <td>0.041258</td>\n",
       "      <td>0.125000</td>\n",
       "      <td>0.646628</td>\n",
       "      <td>0.000000</td>\n",
       "      <td>0.491770</td>\n",
       "      <td>0.586798</td>\n",
       "      <td>0.938980</td>\n",
       "      <td>0.369088</td>\n",
       "      <td>1.000000</td>\n",
       "      <td>0.914122</td>\n",
       "      <td>0.808511</td>\n",
       "      <td>0.998298</td>\n",
       "      <td>0.420116</td>\n",
       "    </tr>\n",
       "    <tr>\n",
       "      <th>max</th>\n",
       "      <td>1.000000</td>\n",
       "      <td>1.000000</td>\n",
       "      <td>1.000000</td>\n",
       "      <td>1.000000</td>\n",
       "      <td>1.000000</td>\n",
       "      <td>1.000000</td>\n",
       "      <td>1.000000</td>\n",
       "      <td>1.000000</td>\n",
       "      <td>1.000000</td>\n",
       "      <td>1.000000</td>\n",
       "      <td>1.000000</td>\n",
       "      <td>1.000000</td>\n",
       "      <td>1.000000</td>\n",
       "    </tr>\n",
       "  </tbody>\n",
       "</table>\n",
       "</div>"
      ],
      "text/plain": [
       "             CRIM          ZN       INDUS        CHAS         NOX          RM  \\\n",
       "count  506.000000  506.000000  506.000000  506.000000  506.000000  506.000000   \n",
       "mean     0.040544    0.113636    0.391378    0.069170    0.349167    0.521869   \n",
       "std      0.096679    0.233225    0.251479    0.253994    0.238431    0.134627   \n",
       "min      0.000000    0.000000    0.000000    0.000000    0.000000    0.000000   \n",
       "25%      0.000851    0.000000    0.173387    0.000000    0.131687    0.445392   \n",
       "50%      0.002812    0.000000    0.338343    0.000000    0.314815    0.507281   \n",
       "75%      0.041258    0.125000    0.646628    0.000000    0.491770    0.586798   \n",
       "max      1.000000    1.000000    1.000000    1.000000    1.000000    1.000000   \n",
       "\n",
       "              AGE         DIS         RAD         TAX     PTRATIO           B  \\\n",
       "count  506.000000  506.000000  506.000000  506.000000  506.000000  506.000000   \n",
       "mean     0.676364    0.242381    0.371713    0.422208    0.622929    0.898568   \n",
       "std      0.289896    0.191482    0.378576    0.321636    0.230313    0.230205   \n",
       "min      0.000000    0.000000    0.000000    0.000000    0.000000    0.000000   \n",
       "25%      0.433831    0.088259    0.130435    0.175573    0.510638    0.945730   \n",
       "50%      0.768280    0.188949    0.173913    0.272901    0.686170    0.986232   \n",
       "75%      0.938980    0.369088    1.000000    0.914122    0.808511    0.998298   \n",
       "max      1.000000    1.000000    1.000000    1.000000    1.000000    1.000000   \n",
       "\n",
       "            LSTAT  \n",
       "count  506.000000  \n",
       "mean     0.301409  \n",
       "std      0.197049  \n",
       "min      0.000000  \n",
       "25%      0.144040  \n",
       "50%      0.265728  \n",
       "75%      0.420116  \n",
       "max      1.000000  "
      ]
     },
     "execution_count": 49,
     "metadata": {},
     "output_type": "execute_result"
    }
   ],
   "source": [
    "scale_data_frame(X).describe()"
   ]
  },
  {
   "cell_type": "markdown",
   "metadata": {},
   "source": [
    "## Zadanie 3\n",
    "Utwórz obok siebie dwa histogramy - danych oryginalnych i po skalowaniu dla kolumny 'AGE'"
   ]
  },
  {
   "cell_type": "code",
   "execution_count": 34,
   "metadata": {},
   "outputs": [],
   "source": [
    "data = load_boston()\n",
    "X = data[\"data\"]\n",
    "X = pd.DataFrame(X)\n",
    "X.columns = data[\"feature_names\"]\n",
    "y = data[\"target\"]"
   ]
  },
  {
   "cell_type": "code",
   "execution_count": 35,
   "metadata": {},
   "outputs": [
    {
     "data": {
      "image/png": "[encoded data removed]",
      "text/plain": [
       "<Figure size 720x432 with 2 Axes>"
      ]
     },
     "metadata": {
      "needs_background": "light"
     },
     "output_type": "display_data"
    }
   ],
   "source": [
    "import matplotlib.pyplot as plt\n",
    "fig, axs = plt.subplots(1, 2,figsize=(10,6))\n",
    "axs[0]=plt.subplot(1, 2, 1)\n",
    "axs[0].hist(X['AGE'])\n",
    "axs[1]=plt.subplot(1, 2, 2)\n",
    "axs[1].hist(scale_0_1(X['AGE']))\n",
    "plt.show()"
   ]
  },
  {
   "cell_type": "markdown",
   "metadata": {},
   "source": [
    "## Zadanie 4\n",
    "Utwórz obok siebie dwa histogramy - danych oryginalnych i po standaryzacji dla kolumny 'RM'"
   ]
  },
  {
   "cell_type": "code",
   "execution_count": 36,
   "metadata": {},
   "outputs": [
    {
     "data": {
      "image/png": "[encoded data removed]",
      "text/plain": [
       "<Figure size 720x432 with 2 Axes>"
      ]
     },
     "metadata": {
      "needs_background": "light"
     },
     "output_type": "display_data"
    }
   ],
   "source": [
    "fig, axs = plt.subplots(1, 2,figsize=(10,6))\n",
    "axs[0]=plt.subplot(1, 2, 1)\n",
    "axs[0].hist(X['RM'])\n",
    "axs[1]=plt.subplot(1, 2, 2)\n",
    "axs[1].hist(standarize(X['RM']))\n",
    "plt.show()"
   ]
  },
  {
   "cell_type": "code",
   "execution_count": null,
   "metadata": {},
   "outputs": [],
   "source": []
  }
 ],
 "metadata": {
  "kernelspec": {
   "display_name": "Python 3",
   "language": "python",
   "name": "python3"
  },
  "language_info": {
   "codemirror_mode": {
    "name": "ipython",
    "version": 3
   },
   "file_extension": ".py",
   "mimetype": "text/x-python",
   "name": "python",
   "nbconvert_exporter": "python",
   "pygments_lexer": "ipython3",
   "version": "3.7.6"
  }
 },
 "nbformat": 4,
 "nbformat_minor": 4
}
