{
 "cells": [
  {
   "cell_type": "markdown",
   "metadata": {},
   "source": [
    "# Cross validation"
   ]
  },
  {
   "cell_type": "code",
   "execution_count": null,
   "metadata": {},
   "outputs": [],
   "source": [
    "import numpy as np\n",
    "import pandas as pd\n",
    "import matplotlib.pyplot as plt\n",
    "from sklearn import model_selection\n",
    "import scipy.stats as stats\n",
    "import sklearn.linear_model as lm\n",
    "from sklearn import datasets, linear_model\n",
    "from sklearn.preprocessing import PolynomialFeatures,StandardScaler\n",
    "from sklearn.pipeline import make_pipeline"
   ]
  },
  {
   "cell_type": "markdown",
   "metadata": {},
   "source": [
    "Rozważmy następujący zbiór punktów:"
   ]
  },
  {
   "cell_type": "code",
   "execution_count": null,
   "metadata": {},
   "outputs": [],
   "source": [
    "np.random.seed(123)\n",
    "f = lambda x: ((-0.7*x-1)*(0.1*x**2-2)**2*(3*x-2)) \n",
    "x = stats.uniform(0,5).rvs(100)\n",
    "y = f(x) + stats.norm(0,0.5).rvs(len(x))\n",
    "x=np.vstack(x)\n",
    "plt.plot(x, y, 'ok');\n",
    "plt.show()"
   ]
  },
  {
   "cell_type": "markdown",
   "metadata": {},
   "source": [
    "# Utworzenie listy modeli"
   ]
  },
  {
   "cell_type": "code",
   "execution_count": null,
   "metadata": {},
   "outputs": [],
   "source": [
    "# prepare models\n",
    "models = []\n",
    "models.append(('LR', linear_model.LinearRegression()))\n",
    "models.append(('PR2', make_pipeline(PolynomialFeatures(2), linear_model.LinearRegression()) ))\n",
    "models.append(('PR3', make_pipeline(PolynomialFeatures(3), linear_model.LinearRegression()) ))\n",
    "models.append(('PR4', make_pipeline(PolynomialFeatures(4), linear_model.LinearRegression()) ))\n",
    "models.append(('PR5', make_pipeline(PolynomialFeatures(5), linear_model.LinearRegression()) ))\n",
    "models.append(('PR6', make_pipeline(PolynomialFeatures(6), linear_model.LinearRegression()) ))\n",
    "models.append(('PR7', make_pipeline(PolynomialFeatures(7), linear_model.LinearRegression()) ))\n",
    "models.append(('PR8', make_pipeline(PolynomialFeatures(8), linear_model.LinearRegression()) ))\n",
    "models.append(('PR9', make_pipeline(PolynomialFeatures(9), linear_model.LinearRegression()) ))\n",
    "models.append(('PR10', make_pipeline(PolynomialFeatures(10), linear_model.LinearRegression()) ))\n",
    "# evaluate each model in turn\n"
   ]
  },
  {
   "cell_type": "code",
   "execution_count": null,
   "metadata": {},
   "outputs": [],
   "source": [
    "seed=123\n",
    "kfold = model_selection.KFold(n_splits=10, random_state=seed, shuffle=True)\n",
    "scoring = 'neg_mean_absolute_error'\n",
    "#scoring = 'r2'"
   ]
  },
  {
   "cell_type": "code",
   "execution_count": null,
   "metadata": {},
   "outputs": [],
   "source": [
    "results = []\n",
    "names = []\n",
    "for name, model in models:\n",
    "    cv_results = model_selection.cross_val_score(model, x, y, cv=kfold, scoring=scoring)\n",
    "    results.append(cv_results)\n",
    "    names.append(name)\n",
    "    msg = \"%s: %f (%f)\" % (name, cv_results.mean(), cv_results.std())\n",
    "    print(msg)"
   ]
  },
  {
   "cell_type": "markdown",
   "metadata": {},
   "source": [
    "# Wizualne porównanie wyników"
   ]
  },
  {
   "cell_type": "code",
   "execution_count": null,
   "metadata": {},
   "outputs": [],
   "source": [
    "# boxplot algorithm comparison\n",
    "fig = plt.figure()\n",
    "plt.title('Algorithm Comparison')\n",
    "plt.boxplot(results)\n",
    "ax=plt.gca()\n",
    "ax.set_xticklabels(names)\n",
    "plt.show()"
   ]
  },
  {
   "cell_type": "markdown",
   "metadata": {},
   "source": [
    "### Dobierz optymalny stopień wielomianu za pomocą metody GridSearchCV.\n",
    "https://scikit-learn.org/stable/modules/generated/sklearn.model_selection.GridSearchCV.html"
   ]
  },
  {
   "cell_type": "code",
   "execution_count": null,
   "metadata": {},
   "outputs": [],
   "source": [
    "from sklearn.model_selection import GridSearchCV\n",
    "pipeline = make_pipeline(PolynomialFeatures(), StandardScaler(), linear_model.LinearRegression())"
   ]
  },
  {
   "cell_type": "code",
   "execution_count": null,
   "metadata": {},
   "outputs": [],
   "source": [
    "pipeline"
   ]
  },
  {
   "cell_type": "markdown",
   "metadata": {},
   "source": [
    "param_grid ustawiamy jako słownik zawierający:\n",
    " - klucz: nazwę kroku następnie dwa \"_\" oraz nazwę parametru\n",
    " - wartość: listę (obiekt iterowalny) wartości które chcemy sprawdzić"
   ]
  },
  {
   "cell_type": "code",
   "execution_count": null,
   "metadata": {},
   "outputs": [],
   "source": [
    "grid = GridSearchCV(pipeline,\n",
    "                    param_grid={'polynomialfeatures__degree': [1, 2, 3, 4, 5, 6, 7,8,9,10]},\n",
    "                    cv=kfold,\n",
    "                    scoring=scoring,\n",
    "                    refit=False)\n",
    "grid.fit(x, y)\n",
    "grid.best_params_"
   ]
  },
  {
   "cell_type": "markdown",
   "metadata": {},
   "source": [
    "# Zadanie 1\n",
    "Zmień pipeline w taki sposób, aby zastosować regularyzację L2 i oprócz najlepszego stopnia wielominanu znaleźć rózniez nalepszy parametr alfa z następującego zbioru: 0.001,0.01, 0.1, 1, 10, 100"
   ]
  },
  {
   "cell_type": "code",
   "execution_count": null,
   "metadata": {},
   "outputs": [],
   "source": []
  },
  {
   "cell_type": "markdown",
   "metadata": {},
   "source": [
    "# Zadanie 2\n",
    "Dla podanych danych wykonaj 5-fold cross-validation dla regresji liniowej i wielomianowej o stopniach 2,3,4,5,10,15,20,25 oraz podaj uśrednione wartości dla każdej z nich oraz wykonaj barplot."
   ]
  },
  {
   "cell_type": "code",
   "execution_count": null,
   "metadata": {},
   "outputs": [],
   "source": [
    "f1 = lambda x: 2*(x-2)*(x-1)*(x-5)\n",
    "x = stats.uniform(0,6).rvs(100)\n",
    "y = f1(x) + stats.norm(0,1).rvs(len(x))\n",
    "x=np.vstack(x)\n",
    "plt.plot(x, y, 'ok');\n",
    "plt.show()"
   ]
  },
  {
   "cell_type": "code",
   "execution_count": null,
   "metadata": {},
   "outputs": [],
   "source": []
  },
  {
   "cell_type": "code",
   "execution_count": null,
   "metadata": {},
   "outputs": [],
   "source": []
  },
  {
   "cell_type": "code",
   "execution_count": null,
   "metadata": {},
   "outputs": [],
   "source": []
  },
  {
   "cell_type": "code",
   "execution_count": null,
   "metadata": {},
   "outputs": [],
   "source": []
  },
  {
   "cell_type": "markdown",
   "metadata": {},
   "source": [
    "# Zadanie 3\n",
    "Dla podanych danych znajdź model o najlepszych parametrach spośród modelu regresji liniowej i wielomianowej o stopniach 2,3,4,5,10,15,20,25 przy zastosowaniu regularyzacji L2 z parametrem alfa równym 0.0001, 0.001,0.01, 0.1, 1, 10, lub 100 przy zastosowaniu 5-fold cross-validation oraz podaj najlepszy uzyskany wynik."
   ]
  },
  {
   "cell_type": "code",
   "execution_count": null,
   "metadata": {},
   "outputs": [],
   "source": []
  },
  {
   "cell_type": "code",
   "execution_count": null,
   "metadata": {},
   "outputs": [],
   "source": []
  }
 ],
 "metadata": {
  "kernelspec": {
   "display_name": "Python 3",
   "language": "python",
   "name": "python3"
  },
  "language_info": {
   "codemirror_mode": {
    "name": "ipython",
    "version": 3
   },
   "file_extension": ".py",
   "mimetype": "text/x-python",
   "name": "python",
   "nbconvert_exporter": "python",
   "pygments_lexer": "ipython3",
   "version": "3.7.6"
  }
 },
 "nbformat": 4,
 "nbformat_minor": 4
}
