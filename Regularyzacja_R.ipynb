{
 "cells": [
  {
   "cell_type": "code",
   "execution_count": 1,
   "metadata": {},
   "outputs": [],
   "source": [
    "import numpy as np\n",
    "import matplotlib.pyplot as plt\n",
    "from sklearn.pipeline import make_pipeline\n",
    "from sklearn.preprocessing import PolynomialFeatures\n",
    "from sklearn.linear_model import LinearRegression\n",
    "from sklearn import  metrics"
   ]
  },
  {
   "cell_type": "code",
   "execution_count": 2,
   "metadata": {},
   "outputs": [],
   "source": [
    "np.random.seed(15)\n",
    "n_samples = 30\n",
    "true_fun = lambda X: X**2 -2*X +3\n",
    "X = np.random.choice(np.linspace(-1,4),n_samples)\n",
    "y = true_fun(X) + np.random.randn(n_samples) * 0.3\n",
    "X = np.vstack(X)"
   ]
  },
  {
   "cell_type": "code",
   "execution_count": 3,
   "metadata": {},
   "outputs": [
    {
     "data": {
      "text/plain": [
       "<matplotlib.collections.PathCollection at 0x214e3650ec8>"
      ]
     },
     "execution_count": 3,
     "metadata": {},
     "output_type": "execute_result"
    },
    {
     "data": {
      "image/png": "[encoded data removed]",
      "text/plain": [
       "<Figure size 432x432 with 1 Axes>"
      ]
     },
     "metadata": {
      "needs_background": "light"
     },
     "output_type": "display_data"
    }
   ],
   "source": [
    "plt.figure(figsize=(6,6))\n",
    "plt.scatter(X, y,  color='black')"
   ]
  },
  {
   "cell_type": "markdown",
   "metadata": {},
   "source": [
    "# Teraz zastosujemy podział na dane trenujące i testowe"
   ]
  },
  {
   "cell_type": "code",
   "execution_count": 4,
   "metadata": {},
   "outputs": [],
   "source": [
    "from sklearn.model_selection import train_test_split"
   ]
  },
  {
   "cell_type": "code",
   "execution_count": 5,
   "metadata": {},
   "outputs": [],
   "source": [
    "X_train, X_test, y_train, y_test = train_test_split(X,y,test_size=0.33,random_state=10)"
   ]
  },
  {
   "cell_type": "markdown",
   "metadata": {},
   "source": [
    "Wytrenuj model regresji liniowej dla wielomianu 15 stopnia."
   ]
  },
  {
   "cell_type": "code",
   "execution_count": 6,
   "metadata": {},
   "outputs": [
    {
     "data": {
      "text/plain": [
       "Pipeline(memory=None,\n",
       "         steps=[('polynomialfeatures',\n",
       "                 PolynomialFeatures(degree=15, include_bias=True,\n",
       "                                    interaction_only=False, order='C')),\n",
       "                ('linearregression',\n",
       "                 LinearRegression(copy_X=True, fit_intercept=True, n_jobs=None,\n",
       "                                  normalize=False))],\n",
       "         verbose=False)"
      ]
     },
     "execution_count": 6,
     "metadata": {},
     "output_type": "execute_result"
    }
   ],
   "source": [
    "mdl15 = make_pipeline(PolynomialFeatures(15),LinearRegression())\n",
    "mdl15.fit(X_train,y_train)"
   ]
  },
  {
   "cell_type": "markdown",
   "metadata": {},
   "source": [
    "Zwizualizuj wyniki otrzymywane przez model wraz z danymi trenującymi (oznacz kolorem czerwonym) i testowymi (oznacz kolorem zielonym)."
   ]
  },
  {
   "cell_type": "code",
   "execution_count": 7,
   "metadata": {},
   "outputs": [
    {
     "data": {
      "image/png": "[encoded data removed]",
      "text/plain": [
       "<Figure size 504x504 with 1 Axes>"
      ]
     },
     "metadata": {
      "needs_background": "light"
     },
     "output_type": "display_data"
    }
   ],
   "source": [
    "x_plot = np.vstack(np.linspace(min(X),max(X),300))\n",
    "plt.figure(figsize=(7,7))\n",
    "plt.plot(X_train,y_train,'ro')\n",
    "plt.plot(X_test,y_test,'go')\n",
    "plt.plot(x_plot,mdl15.predict(x_plot),'k')\n",
    "plt.legend(['Train','Test', 'Polynomial 15'])\n",
    "plt.ylim([-5,15])\n",
    "plt.xlabel('x')\n",
    "plt.ylabel('y')\n",
    "plt.show()"
   ]
  },
  {
   "cell_type": "markdown",
   "metadata": {},
   "source": [
    "Oblicz MSE dla danych trenujących i testujących"
   ]
  },
  {
   "cell_type": "code",
   "execution_count": 8,
   "metadata": {},
   "outputs": [
    {
     "name": "stdout",
     "output_type": "stream",
     "text": [
      "MSE train:\n",
      "0.02753846836278397\n",
      "MSE test:\n",
      "88040.05872704758\n"
     ]
    }
   ],
   "source": [
    "print('MSE train:')\n",
    "print(metrics.mean_squared_error(y_true = y_train, y_pred = mdl15.predict(X_train)))\n",
    "print('MSE test:')\n",
    "print(metrics.mean_squared_error(y_true = y_test, y_pred = mdl15.predict(X_test)))"
   ]
  },
  {
   "cell_type": "code",
   "execution_count": 34,
   "metadata": {},
   "outputs": [
    {
     "data": {
      "text/plain": [
       "array([ 0.00000000e+00, -4.12194905e+00,  7.19094574e+00,  4.09932141e+01,\n",
       "       -1.29100023e+02, -3.28280852e+01,  4.52526148e+02, -4.54982621e+02,\n",
       "       -1.47110787e+02,  6.26085849e+02, -5.67492311e+02,  2.77255175e+02,\n",
       "       -8.20643864e+01,  1.47451907e+01, -1.48471290e+00,  6.44252603e-02])"
      ]
     },
     "execution_count": 34,
     "metadata": {},
     "output_type": "execute_result"
    }
   ],
   "source": [
    "mdl15[1].coef_"
   ]
  },
  {
   "cell_type": "markdown",
   "metadata": {},
   "source": [
    "Uwtórz model dla wielomiany 15 stopnia z regularyzacją grzbietową"
   ]
  },
  {
   "cell_type": "code",
   "execution_count": 53,
   "metadata": {},
   "outputs": [
    {
     "data": {
      "text/plain": [
       "Pipeline(memory=None,\n",
       "         steps=[('polynomialfeatures',\n",
       "                 PolynomialFeatures(degree=15, include_bias=True,\n",
       "                                    interaction_only=False, order='C')),\n",
       "                ('ridge',\n",
       "                 Ridge(alpha=0.18, copy_X=True, fit_intercept=True,\n",
       "                       max_iter=None, normalize=False, random_state=None,\n",
       "                       solver='auto', tol=0.001))],\n",
       "         verbose=False)"
      ]
     },
     "execution_count": 53,
     "metadata": {},
     "output_type": "execute_result"
    }
   ],
   "source": [
    "from sklearn.linear_model import Ridge\n",
    "mdlR = make_pipeline(PolynomialFeatures(15), Ridge(0.18))\n",
    "mdlR.fit(X_train,y_train)"
   ]
  },
  {
   "cell_type": "markdown",
   "metadata": {},
   "source": [
    "Zwizualizuj wyniki otrzymywane przez model wraz z danymi trenującymi (oznacz kolorem czerwonym) i testowymi (oznacz kolorem zielonym)."
   ]
  },
  {
   "cell_type": "code",
   "execution_count": 54,
   "metadata": {},
   "outputs": [
    {
     "data": {
      "image/png": "[encoded data removed]",
      "text/plain": [
       "<Figure size 648x504 with 1 Axes>"
      ]
     },
     "metadata": {
      "needs_background": "light"
     },
     "output_type": "display_data"
    }
   ],
   "source": [
    "x_plot = np.vstack(np.linspace(min(X),max(X),300))\n",
    "plt.figure(figsize=(9,7))\n",
    "plt.plot(X_train,y_train,'ro')\n",
    "plt.plot(X_test,y_test,'go')\n",
    "plt.plot(x_plot,mdlR.predict(x_plot),'k',linewidth=2)\n",
    "plt.xlabel('x')\n",
    "plt.ylabel('y')\n",
    "plt.legend(['Train','Test', 'polynomial 15'])\n",
    "plt.show()"
   ]
  },
  {
   "cell_type": "markdown",
   "metadata": {},
   "source": [
    "Oblicz MSE dla danych trenujących i testujących"
   ]
  },
  {
   "cell_type": "code",
   "execution_count": 55,
   "metadata": {},
   "outputs": [
    {
     "name": "stdout",
     "output_type": "stream",
     "text": [
      "MSE train:\n",
      "0.07450503922897088\n",
      "MSE test:\n",
      "0.3682887457370457\n"
     ]
    }
   ],
   "source": [
    "print('MSE train:')\n",
    "print(metrics.mean_squared_error(y_true = y_train, y_pred = mdlR.predict(X_train)))\n",
    "print('MSE test:')\n",
    "print(metrics.mean_squared_error(y_true = y_test, y_pred = mdlR.predict(X_test)))"
   ]
  },
  {
   "cell_type": "code",
   "execution_count": 68,
   "metadata": {},
   "outputs": [
    {
     "data": {
      "text/plain": [
       "Pipeline(memory=None,\n",
       "         steps=[('polynomialfeatures',\n",
       "                 PolynomialFeatures(degree=15, include_bias=True,\n",
       "                                    interaction_only=False, order='C')),\n",
       "                ('lasso',\n",
       "                 Lasso(alpha=1e-05, copy_X=True, fit_intercept=True,\n",
       "                       max_iter=1000, normalize=False, positive=False,\n",
       "                       precompute=False, random_state=None, selection='cyclic',\n",
       "                       tol=0.0001, warm_start=False))],\n",
       "         verbose=False)"
      ]
     },
     "execution_count": 68,
     "metadata": {},
     "output_type": "execute_result"
    }
   ],
   "source": [
    "from sklearn.linear_model import Lasso\n",
    "mdlL = make_pipeline(PolynomialFeatures(15), Lasso(0.00001))\n",
    "mdlL.fit(X_train,y_train)"
   ]
  },
  {
   "cell_type": "code",
   "execution_count": 69,
   "metadata": {},
   "outputs": [
    {
     "data": {
      "text/plain": [
       "array([ 0.00000000e+00, -1.94317471e+00,  1.14627377e+00, -6.60113930e-02,\n",
       "        1.33609383e-02,  4.16445231e-04, -1.99338589e-04, -9.00245280e-05,\n",
       "       -2.25088092e-05, -4.31172991e-06, -6.02210301e-07, -2.36780689e-08,\n",
       "        2.39959646e-08,  1.25886280e-08,  4.53515195e-09,  1.41621641e-09])"
      ]
     },
     "execution_count": 69,
     "metadata": {},
     "output_type": "execute_result"
    }
   ],
   "source": [
    "mdlL[1].coef_"
   ]
  },
  {
   "cell_type": "markdown",
   "metadata": {},
   "source": [
    "Zwizualizuj wyniki otrzymywane przez model wraz z danymi trenującymi (oznacz kolorem czerwonym) i testowymi (oznacz kolorem zielonym)."
   ]
  },
  {
   "cell_type": "code",
   "execution_count": 70,
   "metadata": {},
   "outputs": [
    {
     "data": {
      "image/png": "[encoded data removed]",
      "text/plain": [
       "<Figure size 648x504 with 1 Axes>"
      ]
     },
     "metadata": {
      "needs_background": "light"
     },
     "output_type": "display_data"
    }
   ],
   "source": [
    "x_plot = np.vstack(np.linspace(min(X),max(X),300))\n",
    "plt.figure(figsize=(9,7))\n",
    "plt.plot(X_train,y_train,'ro')\n",
    "plt.plot(X_test,y_test,'go')\n",
    "plt.plot(x_plot,mdlL.predict(x_plot),'--b',linewidth=2)\n",
    "plt.xlabel('x')\n",
    "plt.ylabel('y')\n",
    "plt.legend(['train','test', 'polynomial 15'])\n",
    "plt.show()"
   ]
  },
  {
   "cell_type": "markdown",
   "metadata": {},
   "source": [
    "Oblicz MSE dla danych trenujących i testujących"
   ]
  },
  {
   "cell_type": "code",
   "execution_count": 71,
   "metadata": {},
   "outputs": [
    {
     "name": "stdout",
     "output_type": "stream",
     "text": [
      "MSE train:\n",
      "0.09056607227456179\n",
      "MSE test:\n",
      "0.09120745458559326\n"
     ]
    }
   ],
   "source": [
    "print('MSE train:')\n",
    "print(metrics.mean_squared_error(y_true = y_train, y_pred = mdlL.predict(X_train)))\n",
    "print('MSE test:')\n",
    "print(metrics.mean_squared_error(y_true = y_test, y_pred = mdlL.predict(X_test)))"
   ]
  },
  {
   "cell_type": "code",
   "execution_count": 25,
   "metadata": {},
   "outputs": [
    {
     "name": "stderr",
     "output_type": "stream",
     "text": [
      "D:\\Programy\\anaconda3\\lib\\site-packages\\sklearn\\linear_model\\_coordinate_descent.py:476: ConvergenceWarning: Objective did not converge. You might want to increase the number of iterations. Duality gap: 0.9693193570971467, tolerance: 0.014710772705082299\n",
      "  positive)\n"
     ]
    },
    {
     "data": {
      "text/plain": [
       "Pipeline(memory=None,\n",
       "         steps=[('polynomialfeatures',\n",
       "                 PolynomialFeatures(degree=15, include_bias=True,\n",
       "                                    interaction_only=False, order='C')),\n",
       "                ('elasticnet',\n",
       "                 ElasticNet(alpha=0.001, copy_X=True, fit_intercept=True,\n",
       "                            l1_ratio=0.7, max_iter=1000, normalize=False,\n",
       "                            positive=False, precompute=False, random_state=None,\n",
       "                            selection='cyclic', tol=0.0001,\n",
       "                            warm_start=False))],\n",
       "         verbose=False)"
      ]
     },
     "execution_count": 25,
     "metadata": {},
     "output_type": "execute_result"
    }
   ],
   "source": [
    "from sklearn.linear_model import ElasticNet\n",
    "mdlEN = make_pipeline(PolynomialFeatures(15), ElasticNet(alpha=0.001,l1_ratio=0.7))\n",
    "mdlEN.fit(X_train,y_train)"
   ]
  },
  {
   "cell_type": "code",
   "execution_count": 72,
   "metadata": {},
   "outputs": [
    {
     "data": {
      "text/plain": [
       "array([ 0.00000000e+00, -2.65595404e-01, -3.25838431e-03, -8.10824602e-02,\n",
       "        6.63183651e-03, -1.66516150e-02,  1.67132868e-02,  9.33804161e-03,\n",
       "        1.65817710e-02,  2.72310180e-03, -7.33153256e-03, -9.33109300e-03,\n",
       "        1.06403815e-02, -3.92063917e-03,  6.41713477e-04, -3.98899612e-05])"
      ]
     },
     "execution_count": 72,
     "metadata": {},
     "output_type": "execute_result"
    }
   ],
   "source": [
    "mdlEN[1].coef_"
   ]
  },
  {
   "cell_type": "markdown",
   "metadata": {},
   "source": [
    "Zwizualizuj wyniki otrzymywane przez model wraz z danymi trenującymi (oznacz kolorem czerwonym) i testowymi (oznacz kolorem zielonym)."
   ]
  },
  {
   "cell_type": "code",
   "execution_count": 26,
   "metadata": {},
   "outputs": [
    {
     "data": {
      "image/png": "[encoded data removed]",
      "text/plain": [
       "<Figure size 648x504 with 1 Axes>"
      ]
     },
     "metadata": {
      "needs_background": "light"
     },
     "output_type": "display_data"
    }
   ],
   "source": [
    "x_plot = np.vstack(np.linspace(min(X),max(X),300))\n",
    "plt.figure(figsize=(9,7))\n",
    "plt.plot(X_train,y_train,'ro')\n",
    "plt.plot(X_test,y_test,'go')\n",
    "plt.plot(x_plot,mdlEN.predict(x_plot),'k',linewidth=2)\n",
    "plt.xlabel('x')\n",
    "plt.ylabel('y')\n",
    "plt.legend(['train','test', 'polynomial 15'])\n",
    "plt.show()"
   ]
  },
  {
   "cell_type": "markdown",
   "metadata": {},
   "source": [
    "Oblicz MSE dla danych trenujących i testujących"
   ]
  },
  {
   "cell_type": "code",
   "execution_count": 27,
   "metadata": {},
   "outputs": [
    {
     "name": "stdout",
     "output_type": "stream",
     "text": [
      "MSE train:\n",
      "0.09108794176064364\n",
      "MSE test:\n",
      "0.09340182057583425\n"
     ]
    }
   ],
   "source": [
    "print('MSE train:')\n",
    "print(metrics.mean_squared_error(y_true = y_train, y_pred = mdlEN.predict(X_train)))\n",
    "print('MSE test:')\n",
    "print(metrics.mean_squared_error(y_true = y_test, y_pred = mdlEN.predict(X_test)))"
   ]
  },
  {
   "cell_type": "code",
   "execution_count": 28,
   "metadata": {},
   "outputs": [],
   "source": [
    "alphas = np.logspace(-10,3)\n",
    "MSE_train = []\n",
    "MSE_test = []\n",
    "coefs = []\n",
    "import warnings\n",
    "warnings.filterwarnings(\"ignore\")\n",
    "for a in alphas:\n",
    "    mdlR = make_pipeline(PolynomialFeatures(15), Ridge(alpha=a))\n",
    "    mdlR.fit(X_train,y_train)\n",
    "    coefs.append(mdlR[1].coef_)\n",
    "    MSE_train.append(metrics.mean_squared_error(y_true = y_train, y_pred = mdlEN.predict(X_train)))\n",
    "    MSE_test.append(metrics.mean_squared_error(y_true = y_test, y_pred = mdlEN.predict(X_test)))"
   ]
  },
  {
   "cell_type": "code",
   "execution_count": 30,
   "metadata": {},
   "outputs": [
    {
     "data": {
      "image/png": "[encoded data removed]",
      "text/plain": [
       "<Figure size 432x288 with 1 Axes>"
      ]
     },
     "metadata": {
      "needs_background": "light"
     },
     "output_type": "display_data"
    }
   ],
   "source": [
    "plt.loglog(alphas,MSE_train)\n",
    "plt.loglog(alphas,MSE_test)\n",
    "plt.xlabel('alpha')\n",
    "plt.ylabel('MSE')\n",
    "plt.legend(['Train','Test'])\n",
    "plt.show()"
   ]
  },
  {
   "cell_type": "code",
   "execution_count": 249,
   "metadata": {},
   "outputs": [
    {
     "name": "stdout",
     "output_type": "stream",
     "text": [
      "0.19306977288832536\n",
      "0.3729404025618848\n"
     ]
    }
   ],
   "source": [
    "min_value = min(MSE_test)\n",
    "min_index = MSE_test.index(min_value)\n",
    "print(alphas[min_index])\n",
    "print(MSE_test[min_index])"
   ]
  },
  {
   "cell_type": "code",
   "execution_count": 31,
   "metadata": {},
   "outputs": [],
   "source": [
    "alphas = np.logspace(-10,1)\n",
    "coefs = []\n",
    "import warnings\n",
    "warnings.filterwarnings(\"ignore\")\n",
    "for a in alphas:\n",
    "    mdlEN = make_pipeline(PolynomialFeatures(15), Ridge(alpha=a))\n",
    "    mdlEN.fit(X_train,y_train)\n",
    "    coefs.append(mdlEN[1].coef_)"
   ]
  },
  {
   "cell_type": "code",
   "execution_count": 32,
   "metadata": {},
   "outputs": [
    {
     "data": {
      "image/png": "[encoded data removed]",
      "text/plain": [
       "<Figure size 432x288 with 1 Axes>"
      ]
     },
     "metadata": {
      "needs_background": "light"
     },
     "output_type": "display_data"
    }
   ],
   "source": [
    "plt.semilogx(alphas,coefs)\n",
    "plt.xlabel('alpha')\n",
    "plt.ylabel('coefs')\n",
    "plt.show()"
   ]
  },
  {
   "cell_type": "code",
   "execution_count": 33,
   "metadata": {},
   "outputs": [
    {
     "data": {
      "text/plain": [
       "array([[ 0.00000000e+00, -4.11262411e+00,  7.23134437e+00,\n",
       "         4.07104919e+01, -1.29207523e+02, -3.04108742e+01,\n",
       "         4.48644604e+02, -4.55426789e+02, -1.39048380e+02,\n",
       "         6.14907600e+02, -5.59347792e+02,  2.73598149e+02,\n",
       "        -8.10186313e+01,  1.45592213e+01, -1.46593694e+00,\n",
       "         6.36023500e-02],\n",
       "       [ 0.00000000e+00, -4.10650181e+00,  7.25776095e+00,\n",
       "         4.05250608e+01, -1.29277168e+02, -2.88270887e+01,\n",
       "         4.46098691e+02, -4.55714723e+02, -1.33765012e+02,\n",
       "         6.07579038e+02, -5.54007029e+02,  2.71199732e+02,\n",
       "        -8.03327183e+01,  1.44372347e+01, -1.45362012e+00,\n",
       "         6.30625055e-02],\n",
       "       [ 0.00000000e+00, -4.09656072e+00,  7.30046513e+00,\n",
       "         4.02243049e+01, -1.29388603e+02, -2.62611501e+01,\n",
       "         4.41969229e+02, -4.56175731e+02, -1.25203882e+02,\n",
       "         5.95697938e+02, -5.45346536e+02,  2.67309919e+02,\n",
       "        -7.92201702e+01,  1.42393569e+01, -1.43363944e+00,\n",
       "         6.21867099e-02],\n",
       "       [ 0.00000000e+00, -2.93687309e+00,  4.54796203e+00,\n",
       "         1.82560270e+01, -7.55479651e+01,  4.80231979e+01,\n",
       "         1.31504107e+02, -2.53484022e+02,  1.81183840e+02,\n",
       "        -5.76204120e+01,  4.85902210e+00,  2.03785705e-01,\n",
       "         1.03271150e+00, -5.25508373e-01,  9.40893471e-02,\n",
       "        -6.00917035e-03],\n",
       "       [ 0.00000000e+00, -4.05637444e+00,  7.47042701e+00,\n",
       "         3.90132625e+01, -1.29815845e+02, -1.59690729e+01,\n",
       "         4.25338863e+02, -4.57947622e+02, -9.08453164e+01,\n",
       "         5.47931439e+02, -5.10499598e+02,  2.51650487e+02,\n",
       "        -7.47396643e+01,  1.34422306e+01, -1.35313198e+00,\n",
       "         5.86572736e-02],\n",
       "       [ 0.00000000e+00, -4.02058396e+00,  7.61752680e+00,\n",
       "         3.79422906e+01, -1.30159165e+02, -6.93183304e+00,\n",
       "         4.10628106e+02, -4.59378865e+02, -6.06443080e+01,\n",
       "         5.05809740e+02, -4.79724832e+02,  2.37807929e+02,\n",
       "        -7.07763387e+01,  1.27367566e+01, -1.28185266e+00,\n",
       "         5.55313941e-02],\n",
       "       [ 0.00000000e+00, -3.97146345e+00,  7.81092684e+00,\n",
       "         3.64875442e+01, -1.30556459e+02,  5.21485694e+00,\n",
       "         3.90638138e+02, -4.61051420e+02, -1.99884894e+01,\n",
       "         4.48834453e+02, -4.38005779e+02,  2.19016425e+02,\n",
       "        -6.53907192e+01,  1.17773948e+01, -1.18486424e+00,\n",
       "         5.12760640e-02],\n",
       "       [ 0.00000000e+00, -3.90963711e+00,  8.03500810e+00,\n",
       "         3.46909435e+01, -1.30888086e+02,  1.99188468e+01,\n",
       "         3.65933018e+02, -4.62491643e+02,  2.93745689e+01,\n",
       "         3.79024474e+02, -3.86675986e+02,  1.95835557e+02,\n",
       "        -5.87348142e+01,  1.05900980e+01, -1.06470142e+00,\n",
       "         4.59993580e-02],\n",
       "       [ 0.00000000e+00, -3.83887944e+00,  8.25090067e+00,\n",
       "         3.27070479e+01, -1.30914503e+02,  3.55208049e+01,\n",
       "         3.38615119e+02, -4.62745996e+02,  8.20740636e+01,\n",
       "         3.03122197e+02, -3.30408566e+02,  1.70295335e+02,\n",
       "        -5.13751739e+01,  9.27373777e+00, -9.31197526e-01,\n",
       "         4.01269975e-02],\n",
       "       [ 0.00000000e+00, -5.16068523e+00,  1.13638273e+01,\n",
       "         4.34250591e+01, -1.76556684e+02,  1.11008792e+02,\n",
       "         2.85879215e+02, -5.58855972e+02,  4.12399287e+02,\n",
       "        -1.38288691e+02,  8.59916629e+00,  7.61584955e+00,\n",
       "        -1.79890076e+00, -5.67068605e-02,  5.83253827e-02,\n",
       "        -5.11492484e-03],\n",
       "       [ 0.00000000e+00, -3.68775083e+00,  8.42833618e+00,\n",
       "         2.89757049e+01, -1.28501769e+02,  6.02599239e+01,\n",
       "         2.86975665e+02, -4.53545896e+02,  1.68057669e+02,\n",
       "         1.68990127e+02, -2.27606283e+02,  1.22688455e+02,\n",
       "        -3.74661119e+01,  6.76043223e+00, -6.74290851e-01,\n",
       "         2.87560733e-02],\n",
       "       [ 0.00000000e+00, -3.60667614e+00,  8.27510964e+00,\n",
       "         2.74184133e+01, -1.25046427e+02,  6.59983810e+01,\n",
       "         2.65185518e+02, -4.40089708e+02,  1.90846732e+02,\n",
       "         1.21653038e+02, -1.87766010e+02,  1.03274068e+02,\n",
       "        -3.16029717e+01,  5.67581548e+00, -5.61459558e-01,\n",
       "         2.36937305e-02],\n",
       "       [ 0.00000000e+00, -3.51305705e+00,  7.89428395e+00,\n",
       "         2.59880329e+01, -1.19285480e+02,  6.64054869e+01,\n",
       "         2.44964826e+02, -4.17583991e+02,  1.97854810e+02,\n",
       "         8.74595192e+01, -1.54538141e+02,  8.59849164e+01,\n",
       "        -2.61754781e+01,  4.64550982e+00, -4.52277493e-01,\n",
       "         1.87267324e-02],\n",
       "       [ 0.00000000e+00, -3.39723860e+00,  7.24870514e+00,\n",
       "         2.45405920e+01, -1.10649701e+02,  6.15014182e+01,\n",
       "         2.24387227e+02, -3.83842314e+02,  1.89642858e+02,\n",
       "         6.32923501e+01, -1.24867216e+02,  6.92279903e+01,\n",
       "        -2.06833835e+01,  3.57457660e+00, -3.36688572e-01,\n",
       "         1.33978386e-02],\n",
       "       [ 0.00000000e+00, -3.25245120e+00,  6.33340333e+00,\n",
       "         2.29494971e+01, -9.89339821e+01,  5.17979732e+01,\n",
       "         2.01944862e+02, -3.38156529e+02,  1.67990939e+02,\n",
       "         4.58953177e+01, -9.61375108e+01,  5.17651775e+01,\n",
       "        -1.47605961e+01,  2.39639350e+00, -2.07852769e-01,\n",
       "         7.40345803e-03],\n",
       "       [ 0.00000000e+00, -3.07943583e+00,  5.20724326e+00,\n",
       "         2.11600702e+01, -8.46996627e+01,  3.85875794e+01,\n",
       "         1.77437042e+02, -2.82906855e+02,  1.36421845e+02,\n",
       "         3.28673975e+01, -6.74915004e+01,  3.34768426e+01,\n",
       "        -8.42892159e+00,  1.12258555e+00, -6.75708659e-02,\n",
       "         8.44998131e-04],\n",
       "       [ 0.00000000e+00, -2.88727436e+00,  4.00194507e+00,\n",
       "         1.91976821e+01, -6.93797112e+01,  2.40459851e+01,\n",
       "         1.52173835e+02, -2.24002781e+02,  1.00396900e+02,\n",
       "         2.28753421e+01, -4.01572294e+01,  1.55598612e+01,\n",
       "        -2.16541941e+00, -1.43518018e-01,  7.22374842e-02,\n",
       "        -5.70208230e-03],\n",
       "       [ 0.00000000e+00, -2.68744248e+00,  2.87906731e+00,\n",
       "         1.71106892e+01, -5.47494424e+01,  1.06864901e+01,\n",
       "         1.28143851e+02, -1.68811510e+02,  6.59881785e+01,\n",
       "         1.53592694e+01, -1.65090967e+01, -1.00452266e-01,\n",
       "         3.31928052e+00, -1.25196984e+00,  1.94534266e-01,\n",
       "        -1.14232276e-02],\n",
       "       [ 0.00000000e+00, -2.48501442e+00,  1.95966369e+00,\n",
       "         1.48897247e+01, -4.20782286e+01,  4.47435214e-01,\n",
       "         1.06706052e+02, -1.22795941e+02,  3.76950902e+01,\n",
       "         1.00611379e+01,  1.47464267e+00, -1.19669875e+01,\n",
       "         7.44800820e+00, -2.08102325e+00,  2.85476247e-01,\n",
       "        -1.56559586e-02],\n",
       "       [ 0.00000000e+00, -2.27565818e+00,  1.28628419e+00,\n",
       "         1.24467402e+01, -3.17034990e+01, -5.82460613e+00,\n",
       "         8.79542935e+01, -8.77444273e+01,  1.72968957e+01,\n",
       "         6.70538534e+00,  1.31210268e+01, -1.94581119e+01,\n",
       "         9.99234615e+00, -2.58113588e+00,  3.39317791e-01,\n",
       "        -1.81211692e-02],\n",
       "       [ 0.00000000e+00, -2.05188081e+00,  8.35916447e-01,\n",
       "         9.68992468e+00, -2.32721233e+01, -8.27166316e+00,\n",
       "         7.11490914e+01, -6.25103947e+01,  4.33355532e+00,\n",
       "         4.92194441e+00,  1.89743109e+01, -2.28798621e+01,\n",
       "         1.10495478e+01, -2.77059254e+00,  3.57961877e-01,\n",
       "        -1.89036219e-02],\n",
       "       [ 0.00000000e+00, -1.81379388e+00,  5.53215481e-01,\n",
       "         6.64816960e+00, -1.62633854e+01, -7.69237995e+00,\n",
       "         5.56244203e+01, -4.47780527e+01, -2.77762725e+00,\n",
       "         4.28298904e+00,  2.03078502e+01, -2.30928832e+01,\n",
       "         1.09268981e+01, -2.71250133e+00,  3.48464155e-01,\n",
       "        -1.83370249e-02],\n",
       "       [ 0.00000000e+00, -1.57565817e+00,  3.75783792e-01,\n",
       "         3.54362171e+00, -1.03568129e+01, -5.25672460e+00,\n",
       "         4.13947939e+01, -3.23682527e+01, -5.88540151e+00,\n",
       "         4.34763199e+00,  1.87089922e+01, -2.12250980e+01,\n",
       "         1.00402326e+01, -2.49428235e+00,  3.20775507e-01,\n",
       "        -1.68987724e-02],\n",
       "       [ 0.00000000e+00, -1.36149016e+00,  2.47118332e-01,\n",
       "         7.24598428e-01, -5.47609072e+00, -2.20911536e+00,\n",
       "         2.90595900e+01, -2.36984276e+01, -6.63188687e+00,\n",
       "         4.71173451e+00,  1.57228105e+01, -1.84017540e+01,\n",
       "         8.81119180e+00, -2.20561328e+00,  2.85193275e-01,\n",
       "        -1.50862291e-02],\n",
       "       [ 0.00000000e+00, -1.19277722e+00,  1.23033529e-01,\n",
       "        -1.50390606e+00, -1.61584359e+00,  4.61951712e-01,\n",
       "         1.92178271e+01, -1.76947931e+01, -6.21327259e+00,\n",
       "         5.06737144e+00,  1.25119378e+01, -1.54702601e+01,\n",
       "         7.55736718e+00, -1.91402136e+00,  2.49466986e-01,\n",
       "        -1.32734467e-02],\n",
       "       [ 0.00000000e+00, -1.07955298e+00, -2.40651925e-02,\n",
       "        -3.00434602e+00,  1.30897557e+00,  2.21862015e+00,\n",
       "         1.20104021e+01, -1.35780662e+01, -5.33185638e+00,\n",
       "         5.23563046e+00,  9.69380298e+00, -1.28639226e+01,\n",
       "         6.43666721e+00, -1.65233997e+00,  2.17296017e-01,\n",
       "        -1.16362553e-02],\n",
       "       [ 0.00000000e+00, -1.06848147e+00, -1.19461866e+00,\n",
       "        -3.41711124e+00,  8.21673699e+00,  2.75302457e+00,\n",
       "        -2.81658793e+00, -1.16041259e+01,  1.07065733e+01,\n",
       "        -2.90762136e-01, -2.24499234e+00,  2.02361748e-01,\n",
       "         5.02197985e-01, -2.22664728e-01,  3.76535484e-02,\n",
       "        -2.34081754e-03],\n",
       "       [ 0.00000000e+00, -1.00909457e+00, -3.84951810e-01,\n",
       "        -4.05600938e+00,  5.01130610e+00,  2.82416016e+00,\n",
       "         3.97827931e+00, -8.74399945e+00, -3.30212089e+00,\n",
       "         4.84435104e+00,  5.69184579e+00, -8.85878930e+00,\n",
       "         4.65370501e+00, -1.22665865e+00,  1.64108736e-01,\n",
       "        -8.89549607e-03],\n",
       "       [ 0.00000000e+00, -1.20350132e+00, -1.17385759e+00,\n",
       "        -2.39611313e+00,  8.89982687e+00, -1.36843986e+00,\n",
       "        -2.17061655e+00, -5.79655978e+00,  4.64320061e+00,\n",
       "         2.75873784e+00, -3.80123816e+00,  1.20835691e+00,\n",
       "         3.59141584e-02, -9.97150978e-02,  2.08432224e-02,\n",
       "        -1.40860199e-03],\n",
       "       [ 0.00000000e+00, -1.16689317e+00, -8.92837210e-01,\n",
       "        -3.05542555e+00,  8.13281534e+00,  1.80245287e-01,\n",
       "        -1.29536434e+00, -6.56837050e+00,  2.08728309e+00,\n",
       "         5.49252669e+00, -3.98263915e+00,  2.11489173e-01,\n",
       "         6.63549404e-01, -2.73735765e-01,  4.45776318e-02,\n",
       "        -2.70579845e-03],\n",
       "       [ 0.00000000e+00, -1.27449775e+00, -6.82353530e-01,\n",
       "        -2.57553824e+00,  7.77829795e+00, -5.56293188e-01,\n",
       "        -1.42483814e+00, -5.62322965e+00,  2.11654771e+00,\n",
       "         5.43203052e+00, -4.92039658e+00,  1.29555896e+00,\n",
       "         1.32335147e-01, -1.37881069e-01,  2.67041886e-02,\n",
       "        -1.74719101e-03],\n",
       "       [ 0.00000000e+00, -1.31096127e+00, -2.18966799e-01,\n",
       "        -2.64108217e+00,  6.08270495e+00,  4.34601172e-02,\n",
       "         1.11004809e-02, -4.16854480e+00, -5.22970263e-01,\n",
       "         2.67672439e+00,  1.87402237e+00, -3.91494087e+00,\n",
       "         2.22009787e+00, -6.09263561e-01,  8.36374004e-02,\n",
       "        -4.61610003e-03],\n",
       "       [ 0.00000000e+00, -1.56089190e+00,  3.18905456e-01,\n",
       "        -1.52044514e+00,  5.29751442e+00, -1.45628815e+00,\n",
       "        -9.75441919e-01, -2.76785257e+00,  1.69731556e+00,\n",
       "         2.43172794e+00, -2.67706233e+00,  8.92573336e-01,\n",
       "        -3.34843359e-02, -4.77560017e-02,  1.09996055e-02,\n",
       "        -7.65353207e-04],\n",
       "       [ 0.00000000e+00, -1.61460652e+00,  5.97712284e-01,\n",
       "        -1.61935246e+00,  4.45035165e+00, -6.03489136e-01,\n",
       "        -5.30855168e-01, -2.73244475e+00,  3.95944187e-01,\n",
       "         2.52759404e+00, -9.39721721e-01, -8.37909529e-01,\n",
       "         7.49984007e-01, -2.38598065e-01,  3.53047062e-02,\n",
       "        -2.03943628e-03],\n",
       "       [ 0.00000000e+00, -1.67344879e+00,  9.33197831e-01,\n",
       "        -1.53175623e+00,  3.28966495e+00, -2.08761634e-01,\n",
       "         1.21157541e-01, -1.93412415e+00, -6.52762995e-01,\n",
       "         7.90809967e-01,  2.53194687e+00, -3.34322273e+00,\n",
       "         1.71890958e+00, -4.52018612e-01,  6.06043271e-02,\n",
       "        -3.29569178e-03],\n",
       "       [ 0.00000000e+00, -1.81339173e+00,  1.47416013e+00,\n",
       "        -9.77158681e-01,  2.18344407e+00, -7.73533528e-01,\n",
       "        -1.94618876e-01, -9.80283137e-01,  4.50559720e-01,\n",
       "         6.05749115e-01, -2.26567017e-01, -3.01990184e-01,\n",
       "         2.55729254e-01, -8.07501244e-02,  1.19213139e-02,\n",
       "        -6.87728544e-04],\n",
       "       [ 0.00000000e+00, -1.86011597e+00,  1.63843721e+00,\n",
       "        -8.42055854e-01,  1.64011303e+00, -6.31180568e-01,\n",
       "        -1.08519396e-01, -7.20206532e-01,  3.04409511e-01,\n",
       "         4.20325244e-01, -7.87872512e-02, -2.97740639e-01,\n",
       "         2.20150406e-01, -6.68209955e-02,  9.67281707e-03,\n",
       "        -5.51295001e-04],\n",
       "       [ 0.00000000e+00, -1.88611113e+00,  1.69645450e+00,\n",
       "        -7.25966582e-01,  1.27511613e+00, -5.13911894e-01,\n",
       "        -5.15762663e-02, -5.50170194e-01,  1.90218380e-01,\n",
       "         2.96718443e-01,  4.35018967e-02, -3.16013103e-01,\n",
       "         2.05010744e-01, -5.94177111e-02,  8.39082390e-03,\n",
       "        -4.70688098e-04],\n",
       "       [ 0.00000000e+00, -1.89417512e+00,  1.66411407e+00,\n",
       "        -6.08623866e-01,  1.03775671e+00, -4.17531947e-01,\n",
       "        -2.97663762e-02, -4.50356228e-01,  1.20905782e-01,\n",
       "         2.42881584e-01,  7.98569284e-02, -2.96421303e-01,\n",
       "         1.82335748e-01, -5.16010378e-02,  7.18005639e-03,\n",
       "        -3.98548706e-04],\n",
       "       [ 0.00000000e+00, -1.87461499e+00,  1.54957514e+00,\n",
       "        -5.07844974e-01,  8.67366057e-01, -3.25698256e-01,\n",
       "        -1.51714157e-03, -3.68216211e-01,  6.15861810e-02,\n",
       "         1.75592829e-01,  1.24616267e-01, -2.75171550e-01,\n",
       "         1.56181086e-01, -4.24241928e-02,  5.74290306e-03,\n",
       "        -3.12227709e-04],\n",
       "       [ 0.00000000e+00, -1.81882454e+00,  1.36227688e+00,\n",
       "        -4.33496328e-01,  7.23781848e-01, -2.39690107e-01,\n",
       "         4.22334597e-02, -2.71712158e-01,  3.03672054e-02,\n",
       "         9.02734890e-02,  8.68970772e-02, -1.44497303e-01,\n",
       "         7.20997162e-02, -1.75796611e-02,  2.15342657e-03,\n",
       "        -1.06435276e-04],\n",
       "       [ 0.00000000e+00, -1.73079191e+00,  1.12278692e+00,\n",
       "        -3.57317757e-01,  6.14634312e-01, -1.48218874e-01,\n",
       "         7.69651956e-02, -2.05185910e-01, -7.11784225e-03,\n",
       "         2.84399396e-02,  7.67383596e-02, -6.42092706e-02,\n",
       "         1.68236592e-02, -7.95219019e-04, -3.07630927e-04,\n",
       "         3.59591951e-05],\n",
       "       [ 0.00000000e+00, -1.60206142e+00,  8.67114606e-01,\n",
       "        -2.88873397e-01,  5.16233296e-01, -6.87194167e-02,\n",
       "         1.01307754e-01, -1.51464885e-01, -3.60827322e-02,\n",
       "        -1.60154016e-02,  6.92355894e-02, -7.97801830e-03,\n",
       "        -2.12864852e-02,  1.06343462e-02, -1.96643495e-03,\n",
       "         1.31112492e-04],\n",
       "       [ 0.00000000e+00, -1.42871955e+00,  6.27821473e-01,\n",
       "        -2.33494371e-01,  4.18295315e-01, -1.44151756e-02,\n",
       "         1.09928567e-01, -1.07403551e-01, -4.89951079e-02,\n",
       "        -3.88474910e-02,  5.89362065e-02,  2.17064518e-02,\n",
       "        -3.84888656e-02,  1.52822431e-02, -2.58698120e-03,\n",
       "         1.64274020e-04],\n",
       "       [ 0.00000000e+00, -1.21656751e+00,  4.21909543e-01,\n",
       "        -1.95310706e-01,  3.17431435e-01,  1.22258782e-02,\n",
       "         1.06289104e-01, -6.73043340e-02, -4.49308083e-02,\n",
       "        -4.72104528e-02,  4.18369650e-02,  3.60337926e-02,\n",
       "        -4.18543337e-02,  1.52408583e-02, -2.47366207e-03,\n",
       "         1.53042849e-04],\n",
       "       [ 0.00000000e+00, -9.83437319e-01,  2.59839938e-01,\n",
       "        -1.68271317e-01,  2.20039595e-01,  1.50213579e-02,\n",
       "         8.97045179e-02, -3.58776829e-02, -2.87541220e-02,\n",
       "        -3.95744147e-02,  2.44719370e-02,  2.94623642e-02,\n",
       "        -2.95582414e-02,  1.02395219e-02, -1.61303216e-03,\n",
       "         9.77227441e-05],\n",
       "       [ 0.00000000e+00, -7.55044532e-01,  1.41552431e-01,\n",
       "        -1.47143700e-01,  1.35203706e-01,  5.28192878e-03,\n",
       "         6.76549327e-02, -1.28307454e-02, -9.00298960e-03,\n",
       "        -2.52172571e-02,  9.29525785e-03,  1.43837998e-02,\n",
       "        -1.20418349e-02,  3.77787494e-03, -5.52410188e-04,\n",
       "         3.14988934e-05],\n",
       "       [ 0.00000000e+00, -5.53717318e-01,  6.32712650e-02,\n",
       "        -1.26710190e-01,  7.09124083e-02, -6.28940296e-03,\n",
       "         4.65330744e-02,  1.79689144e-03,  6.78186438e-03,\n",
       "        -1.17801724e-02, -1.59943380e-03,  1.24051502e-03,\n",
       "         1.87692258e-03, -1.18697601e-03,  2.45719380e-04,\n",
       "        -1.75916075e-05],\n",
       "       [ 0.00000000e+00, -3.90288350e-01,  1.81505766e-02,\n",
       "        -1.04410559e-01,  2.92615772e-02, -1.40163533e-02,\n",
       "         2.92550586e-02,  8.44798169e-03,  1.51279524e-02,\n",
       "        -2.27465811e-03, -6.76414709e-03, -6.83984578e-03,\n",
       "         9.37321557e-03, -3.69946244e-03,  6.32173818e-04,\n",
       "        -4.05464207e-05],\n",
       "       [ 0.00000000e+00, -2.65595404e-01, -3.25838431e-03,\n",
       "        -8.10824602e-02,  6.63183651e-03, -1.66516150e-02,\n",
       "         1.67132868e-02,  9.33804161e-03,  1.65817710e-02,\n",
       "         2.72310180e-03, -7.33153256e-03, -9.33109300e-03,\n",
       "         1.06403815e-02, -3.92063917e-03,  6.41713477e-04,\n",
       "        -3.98899612e-05]])"
      ]
     },
     "execution_count": 33,
     "metadata": {},
     "output_type": "execute_result"
    }
   ],
   "source": [
    "np.stack(coefs)"
   ]
  },
  {
   "cell_type": "code",
   "execution_count": null,
   "metadata": {},
   "outputs": [],
   "source": []
  }
 ],
 "metadata": {
  "kernelspec": {
   "display_name": "Python 3",
   "language": "python",
   "name": "python3"
  },
  "language_info": {
   "codemirror_mode": {
    "name": "ipython",
    "version": 3
   },
   "file_extension": ".py",
   "mimetype": "text/x-python",
   "name": "python",
   "nbconvert_exporter": "python",
   "pygments_lexer": "ipython3",
   "version": "3.7.6"
  }
 },
 "nbformat": 4,
 "nbformat_minor": 4
}
